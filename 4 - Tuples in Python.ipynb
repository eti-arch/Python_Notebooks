{
 "cells": [
  {
   "cell_type": "markdown",
   "metadata": {},
   "source": [
    "##### A Tuple is a collection of Python objects separated by commas. In someways a tuple is similar to a list in terms of indexing, nested objects and repetition but a tuple is immutable unlike lists which are mutable.\n",
    "\n"
   ]
  },
  {
   "cell_type": "markdown",
   "metadata": {},
   "source": [
    "###### Understanding the concept of immutable and mutable"
   ]
  },
  {
   "cell_type": "code",
   "execution_count": 24,
   "metadata": {},
   "outputs": [
    {
     "name": "stdout",
     "output_type": "stream",
     "text": [
      "lis_1 : ['Maths', 'History', 'Geography', 'Science']\n",
      "lis_2 : ['Maths', 'History', 'Geography', 'Science']\n",
      "lis_1 : ['Arts', 'History', 'Geography', 'Science']\n",
      "lis_2 : ['Arts', 'History', 'Geography', 'Science']\n"
     ]
    }
   ],
   "source": [
    "lis_1=['Maths','History','Geography','Science']\n",
    "print(\"lis_1 :\",lis_1)\n",
    "lis_2=lis_1\n",
    "print(\"lis_2 :\",lis_2)\n",
    "lis_1[0]='Arts'\n",
    "print(\"lis_1 :\",lis_1)\n",
    "print(\"lis_2 :\",lis_2)"
   ]
  },
  {
   "cell_type": "code",
   "execution_count": 25,
   "metadata": {},
   "outputs": [
    {
     "name": "stdout",
     "output_type": "stream",
     "text": [
      "tuple_1 : ('IT', 'Comp', 'EE', 'ET')\n",
      "tuple_2 : ('IT', 'Comp', 'EE', 'ET')\n"
     ]
    },
    {
     "ename": "TypeError",
     "evalue": "'tuple' object does not support item assignment",
     "output_type": "error",
     "traceback": [
      "\u001b[1;31m---------------------------------------------------------------------------\u001b[0m",
      "\u001b[1;31mTypeError\u001b[0m                                 Traceback (most recent call last)",
      "\u001b[1;32m<ipython-input-25-7cd1fe7b0572>\u001b[0m in \u001b[0;36m<module>\u001b[1;34m\u001b[0m\n\u001b[0;32m      3\u001b[0m \u001b[0mtuple_2\u001b[0m\u001b[1;33m=\u001b[0m\u001b[0mtuple_1\u001b[0m\u001b[1;33m\u001b[0m\u001b[1;33m\u001b[0m\u001b[0m\n\u001b[0;32m      4\u001b[0m \u001b[0mprint\u001b[0m\u001b[1;33m(\u001b[0m\u001b[1;34m\"tuple_2 :\"\u001b[0m\u001b[1;33m,\u001b[0m\u001b[0mtuple_2\u001b[0m\u001b[1;33m)\u001b[0m\u001b[1;33m\u001b[0m\u001b[1;33m\u001b[0m\u001b[0m\n\u001b[1;32m----> 5\u001b[1;33m \u001b[0mtuple_1\u001b[0m\u001b[1;33m[\u001b[0m\u001b[1;36m0\u001b[0m\u001b[1;33m]\u001b[0m\u001b[1;33m=\u001b[0m\u001b[1;34m'AR'\u001b[0m\u001b[1;33m\u001b[0m\u001b[1;33m\u001b[0m\u001b[0m\n\u001b[0m\u001b[0;32m      6\u001b[0m \u001b[0mprint\u001b[0m\u001b[1;33m(\u001b[0m\u001b[1;34m\"tuple_1 :\"\u001b[0m\u001b[1;33m,\u001b[0m\u001b[0mtuple_1\u001b[0m\u001b[1;33m)\u001b[0m\u001b[1;33m\u001b[0m\u001b[1;33m\u001b[0m\u001b[0m\n\u001b[0;32m      7\u001b[0m \u001b[0mprint\u001b[0m\u001b[1;33m(\u001b[0m\u001b[1;34m\"tuple_2 :\"\u001b[0m\u001b[1;33m,\u001b[0m\u001b[0mtuple_2\u001b[0m\u001b[1;33m)\u001b[0m\u001b[1;33m\u001b[0m\u001b[1;33m\u001b[0m\u001b[0m\n",
      "\u001b[1;31mTypeError\u001b[0m: 'tuple' object does not support item assignment"
     ]
    }
   ],
   "source": [
    "tuple_1=('IT','Comp','EE','ET')\n",
    "print(\"tuple_1 :\",tuple_1)\n",
    "tuple_2=tuple_1\n",
    "print(\"tuple_2 :\",tuple_2)\n",
    "tuple_1[0]='AR'\n",
    "print(\"tuple_1 :\",tuple_1)\n",
    "print(\"tuple_2 :\",tuple_2)"
   ]
  },
  {
   "cell_type": "markdown",
   "metadata": {},
   "source": [
    "'tuple' object does not support item assignment since its immutable.\n",
    "\n",
    "Since tuple is immutable, it doesnot have nearly as many methods like lists i.e append,remove,insert etc.which mutates. But apart from that it supports access, looping like lists.\n",
    "\n",
    "\n",
    "Hence if you want to modify something use list but if you just want something to access and loop through use tuple."
   ]
  },
  {
   "cell_type": "markdown",
   "metadata": {},
   "source": [
    "###### Creating tuples"
   ]
  },
  {
   "cell_type": "code",
   "execution_count": 1,
   "metadata": {},
   "outputs": [
    {
     "name": "stdout",
     "output_type": "stream",
     "text": [
      "()\n"
     ]
    }
   ],
   "source": [
    "# Creating Tuples\n",
    "# An empty tuple \n",
    "empty_tuple = () \n",
    "print (empty_tuple) \n"
   ]
  },
  {
   "cell_type": "code",
   "execution_count": 3,
   "metadata": {},
   "outputs": [
    {
     "data": {
      "text/plain": [
       "int"
      ]
     },
     "execution_count": 3,
     "metadata": {},
     "output_type": "execute_result"
    }
   ],
   "source": [
    "h=(391)\n",
    "type(h)"
   ]
  },
  {
   "cell_type": "code",
   "execution_count": 4,
   "metadata": {},
   "outputs": [
    {
     "data": {
      "text/plain": [
       "tuple"
      ]
     },
     "execution_count": 4,
     "metadata": {},
     "output_type": "execute_result"
    }
   ],
   "source": [
    "k=(391,)\n",
    "type(k)"
   ]
  },
  {
   "cell_type": "code",
   "execution_count": 2,
   "metadata": {},
   "outputs": [
    {
     "name": "stdout",
     "output_type": "stream",
     "text": [
      "('python', 'geeks')\n",
      "('python', 'geeks')\n"
     ]
    }
   ],
   "source": [
    "# Creating non-empty tuples \n",
    "\n",
    "# One way of creation \n",
    "tup = 'python', 'geeks'\n",
    "print(tup) \n",
    "\n",
    "# Another for doing the same \n",
    "tup = ('python', 'geeks') \n",
    "print(tup) \n"
   ]
  },
  {
   "cell_type": "code",
   "execution_count": 3,
   "metadata": {},
   "outputs": [
    {
     "name": "stdout",
     "output_type": "stream",
     "text": [
      "(0, 1, 2, 3, 'python', 'geek')\n"
     ]
    }
   ],
   "source": [
    "# Code for concatenating 2 tuples \n",
    "\n",
    "tuple1 = (0, 1, 2, 3) \n",
    "tuple2 = ('python', 'geek') \n",
    "\n",
    "# Concatenating above two \n",
    "print(tuple1 + tuple2) \n"
   ]
  },
  {
   "cell_type": "code",
   "execution_count": 4,
   "metadata": {},
   "outputs": [
    {
     "name": "stdout",
     "output_type": "stream",
     "text": [
      "((0, 1, 2, 3), ('python', 'geek'))\n"
     ]
    }
   ],
   "source": [
    "# Code for creating nested tuples \n",
    "\n",
    "tuple1 = (0, 1, 2, 3) \n",
    "tuple2 = ('python', 'geek') \n",
    "tuple3 = (tuple1, tuple2) \n",
    "print(tuple3) \n"
   ]
  },
  {
   "cell_type": "code",
   "execution_count": 5,
   "metadata": {},
   "outputs": [
    {
     "name": "stdout",
     "output_type": "stream",
     "text": [
      "('python', 'python', 'python')\n"
     ]
    }
   ],
   "source": [
    "# Code to create a tuple with repetition \n",
    "\n",
    "tuple3 = ('python',)*3\n",
    "print(tuple3) \n"
   ]
  },
  {
   "cell_type": "code",
   "execution_count": 7,
   "metadata": {},
   "outputs": [
    {
     "name": "stdout",
     "output_type": "stream",
     "text": [
      "pythonpythonpython\n"
     ]
    }
   ],
   "source": [
    "tuple3 = ('python')*3\n",
    "print(tuple3) "
   ]
  },
  {
   "cell_type": "code",
   "execution_count": 31,
   "metadata": {},
   "outputs": [
    {
     "ename": "TypeError",
     "evalue": "'tuple' object does not support item assignment",
     "output_type": "error",
     "traceback": [
      "\u001b[1;31m---------------------------------------------------------------------------\u001b[0m",
      "\u001b[1;31mTypeError\u001b[0m                                 Traceback (most recent call last)",
      "\u001b[1;32m<ipython-input-31-6a463c4795d5>\u001b[0m in \u001b[0;36m<module>\u001b[1;34m\u001b[0m\n\u001b[0;32m      2\u001b[0m \u001b[1;33m\u001b[0m\u001b[0m\n\u001b[0;32m      3\u001b[0m \u001b[0mtuple1\u001b[0m \u001b[1;33m=\u001b[0m \u001b[1;33m(\u001b[0m\u001b[1;36m0\u001b[0m\u001b[1;33m,\u001b[0m \u001b[1;36m1\u001b[0m\u001b[1;33m,\u001b[0m \u001b[1;36m2\u001b[0m\u001b[1;33m,\u001b[0m \u001b[1;36m3\u001b[0m\u001b[1;33m)\u001b[0m\u001b[1;33m\u001b[0m\u001b[1;33m\u001b[0m\u001b[0m\n\u001b[1;32m----> 4\u001b[1;33m \u001b[0mtuple1\u001b[0m\u001b[1;33m[\u001b[0m\u001b[1;36m0\u001b[0m\u001b[1;33m]\u001b[0m \u001b[1;33m=\u001b[0m \u001b[1;36m4\u001b[0m\u001b[1;33m\u001b[0m\u001b[1;33m\u001b[0m\u001b[0m\n\u001b[0m\u001b[0;32m      5\u001b[0m \u001b[0mprint\u001b[0m\u001b[1;33m(\u001b[0m\u001b[0mtuple1\u001b[0m\u001b[1;33m)\u001b[0m\u001b[1;33m\u001b[0m\u001b[1;33m\u001b[0m\u001b[0m\n\u001b[0;32m      6\u001b[0m \u001b[1;32mdel\u001b[0m \u001b[0mtuple1\u001b[0m\u001b[1;33m[\u001b[0m\u001b[1;36m0\u001b[0m\u001b[1;33m]\u001b[0m\u001b[1;33m\u001b[0m\u001b[1;33m\u001b[0m\u001b[0m\n",
      "\u001b[1;31mTypeError\u001b[0m: 'tuple' object does not support item assignment"
     ]
    }
   ],
   "source": [
    "#code to test that tuples are immutable \n",
    "\n",
    "tuple1 = (0, 1, 2, 3) \n",
    "tuple1[0] = 4\n",
    "print(tuple1) "
   ]
  },
  {
   "cell_type": "code",
   "execution_count": 32,
   "metadata": {},
   "outputs": [
    {
     "ename": "TypeError",
     "evalue": "'tuple' object doesn't support item deletion",
     "output_type": "error",
     "traceback": [
      "\u001b[1;31m---------------------------------------------------------------------------\u001b[0m",
      "\u001b[1;31mTypeError\u001b[0m                                 Traceback (most recent call last)",
      "\u001b[1;32m<ipython-input-32-4394c65d64e3>\u001b[0m in \u001b[0;36m<module>\u001b[1;34m\u001b[0m\n\u001b[1;32m----> 1\u001b[1;33m \u001b[1;32mdel\u001b[0m \u001b[0mtuple1\u001b[0m\u001b[1;33m[\u001b[0m\u001b[1;36m0\u001b[0m\u001b[1;33m]\u001b[0m\u001b[1;33m\u001b[0m\u001b[1;33m\u001b[0m\u001b[0m\n\u001b[0m",
      "\u001b[1;31mTypeError\u001b[0m: 'tuple' object doesn't support item deletion"
     ]
    }
   ],
   "source": [
    "del tuple1[0]"
   ]
  },
  {
   "cell_type": "code",
   "execution_count": 9,
   "metadata": {},
   "outputs": [
    {
     "name": "stdout",
     "output_type": "stream",
     "text": [
      "(1, 2, 3)\n",
      "(3, 2, 1, 0)\n",
      "(2, 3)\n"
     ]
    }
   ],
   "source": [
    "# code to test slicing \n",
    "\n",
    "tuple1 = (0 ,1, 2, 3) \n",
    "print(tuple1[1:]) \n",
    "print(tuple1[::-1]) \n",
    "print(tuple1[2:4])\n"
   ]
  },
  {
   "cell_type": "code",
   "execution_count": 1,
   "metadata": {},
   "outputs": [
    {
     "ename": "NameError",
     "evalue": "name 'tuple3' is not defined",
     "output_type": "error",
     "traceback": [
      "\u001b[1;31m---------------------------------------------------------------------------\u001b[0m",
      "\u001b[1;31mNameError\u001b[0m                                 Traceback (most recent call last)",
      "\u001b[1;32m<ipython-input-1-a5bf28cd32a7>\u001b[0m in \u001b[0;36m<module>\u001b[1;34m\u001b[0m\n\u001b[0;32m      3\u001b[0m \u001b[0mtuple3\u001b[0m \u001b[1;33m=\u001b[0m \u001b[1;33m(\u001b[0m \u001b[1;36m0\u001b[0m\u001b[1;33m,\u001b[0m \u001b[1;36m1\u001b[0m\u001b[1;33m)\u001b[0m\u001b[1;33m\u001b[0m\u001b[1;33m\u001b[0m\u001b[0m\n\u001b[0;32m      4\u001b[0m \u001b[1;32mdel\u001b[0m \u001b[0mtuple3\u001b[0m\u001b[1;33m\u001b[0m\u001b[1;33m\u001b[0m\u001b[0m\n\u001b[1;32m----> 5\u001b[1;33m \u001b[0mprint\u001b[0m\u001b[1;33m(\u001b[0m\u001b[0mtuple3\u001b[0m\u001b[1;33m)\u001b[0m\u001b[1;33m\u001b[0m\u001b[1;33m\u001b[0m\u001b[0m\n\u001b[0m",
      "\u001b[1;31mNameError\u001b[0m: name 'tuple3' is not defined"
     ]
    }
   ],
   "source": [
    "# Code for deleting a tuple \n",
    "\n",
    "tuple3 = ( 0, 1) \n",
    "del tuple3\n",
    "print(tuple3) \n"
   ]
  },
  {
   "cell_type": "code",
   "execution_count": 11,
   "metadata": {},
   "outputs": [
    {
     "name": "stdout",
     "output_type": "stream",
     "text": [
      "2\n"
     ]
    }
   ],
   "source": [
    "# Code for printing the length of a tuple \n",
    "\n",
    "tuple2 = ('python', 'geek') \n",
    "print(len(tuple2)) \n"
   ]
  },
  {
   "cell_type": "code",
   "execution_count": 14,
   "metadata": {},
   "outputs": [
    {
     "name": "stdout",
     "output_type": "stream",
     "text": [
      "(0, 1, 2)\n",
      "('p', 'y', 't', 'h', 'o', 'n')\n",
      "('python', 'spring')\n"
     ]
    }
   ],
   "source": [
    "# Code for converting a list and a string into a tuple \n",
    "#Takes a single parameter which may be a list,string,set or even a dictionary( only keys are taken as elements) \n",
    "#and converts them to a tuple.\n",
    "\n",
    "list1 = [0, 1, 2] \n",
    "print(tuple(list1)) \n",
    "print(tuple('python')) # string 'python' \n",
    "print(tuple({'python':'ansible','spring':'java'}))"
   ]
  },
  {
   "cell_type": "code",
   "execution_count": 15,
   "metadata": {},
   "outputs": [
    {
     "name": "stdout",
     "output_type": "stream",
     "text": [
      "(('geek',),)\n",
      "((('geek',),),)\n",
      "(((('geek',),),),)\n",
      "((((('geek',),),),),)\n",
      "(((((('geek',),),),),),)\n"
     ]
    }
   ],
   "source": [
    "#python code for creating tuples in a loop \n",
    "\n",
    "tup = ('geek',) \n",
    "n = 5 #Number of time loop runs \n",
    "for i in range(int(n)): \n",
    "\ttup = (tup,) \n",
    "\tprint(tup) \n"
   ]
  },
  {
   "cell_type": "code",
   "execution_count": 34,
   "metadata": {},
   "outputs": [
    {
     "ename": "NameError",
     "evalue": "name 'cmp' is not defined",
     "output_type": "error",
     "traceback": [
      "\u001b[1;31m---------------------------------------------------------------------------\u001b[0m",
      "\u001b[1;31mNameError\u001b[0m                                 Traceback (most recent call last)",
      "\u001b[1;32m<ipython-input-34-864a2abbc369>\u001b[0m in \u001b[0;36m<module>\u001b[1;34m\u001b[0m\n\u001b[0;32m      5\u001b[0m \u001b[0mtuple2\u001b[0m \u001b[1;33m=\u001b[0m \u001b[1;33m(\u001b[0m\u001b[1;34m'coder'\u001b[0m\u001b[1;33m,\u001b[0m \u001b[1;36m1\u001b[0m\u001b[1;33m)\u001b[0m\u001b[1;33m\u001b[0m\u001b[1;33m\u001b[0m\u001b[0m\n\u001b[0;32m      6\u001b[0m \u001b[1;33m\u001b[0m\u001b[0m\n\u001b[1;32m----> 7\u001b[1;33m \u001b[1;32mif\u001b[0m \u001b[1;33m(\u001b[0m\u001b[0mcmp\u001b[0m\u001b[1;33m(\u001b[0m\u001b[0mtuple1\u001b[0m\u001b[1;33m,\u001b[0m \u001b[0mtuple2\u001b[0m\u001b[1;33m)\u001b[0m \u001b[1;33m!=\u001b[0m \u001b[1;36m0\u001b[0m\u001b[1;33m)\u001b[0m\u001b[1;33m:\u001b[0m\u001b[1;33m\u001b[0m\u001b[1;33m\u001b[0m\u001b[0m\n\u001b[0m\u001b[0;32m      8\u001b[0m \u001b[1;33m\u001b[0m\u001b[0m\n\u001b[0;32m      9\u001b[0m         \u001b[1;31m# cmp() returns 0 if matched, 1 when not tuple1\u001b[0m\u001b[1;33m\u001b[0m\u001b[1;33m\u001b[0m\u001b[1;33m\u001b[0m\u001b[0m\n",
      "\u001b[1;31mNameError\u001b[0m: name 'cmp' is not defined"
     ]
    }
   ],
   "source": [
    "# A python program to demonstrate the use of \n",
    "# cmp(), max(), min() \n",
    "\n",
    "tuple1 = ('python', 'geek') \n",
    "tuple2 = ('coder', 1) \n",
    "\n",
    "if (cmp(tuple1, tuple2) != 0): \n",
    "\n",
    "\t# cmp() returns 0 if matched, 1 when not tuple1 \n",
    "\t# is longer and -1 when tuple1 is shoter \n",
    "\tprint('Not the same') \n",
    "else: \n",
    "\tprint('Same') \n",
    "print ('Maximum element in tuples 1,2: ' +\n",
    "\t\tstr(max(tuple1)) + ',' +\n",
    "\t\tstr(max(tuple2))) \n",
    "print ('Minimum element in tuples 1,2: ' +\n",
    "\tstr(min(tuple1)) + ',' + str(min(tuple2))) \n",
    "\n",
    "#Note: max() and min() checks the based on ASCII values. If there are two strings in a tuple,\n",
    "#then the first different character in the strings are checked.\n"
   ]
  },
  {
   "cell_type": "markdown",
   "metadata": {},
   "source": [
    "Packing and Unpacking a Tuple :\n",
    "\n",
    "In Python there is a very powerful tuple assignment feature that assigns right hand side of values into left hand side. In other way it is called unpacking of a tuple of values into a variable. In packing, we put values into a new tuple while in unpacking we extract those values into a single variable.\n",
    "\n",
    "NOTE : In unpacking of tuple number of variables on left hand side should be equal to number of values in given tuple a."
   ]
  },
  {
   "cell_type": "code",
   "execution_count": 14,
   "metadata": {},
   "outputs": [
    {
     "name": "stdout",
     "output_type": "stream",
     "text": [
      "MNNIT Allahabad\n",
      "5000\n",
      "Engineering\n"
     ]
    }
   ],
   "source": [
    "# Program to understand about \n",
    "# packing and unpacking in Python \n",
    "\n",
    "# this lines PACKS values \n",
    "# into variable a \n",
    "a = (\"MNNIT Allahabad\", 5000, \"Engineering\") \n",
    "\n",
    "# this lines UNPACKS values \n",
    "# of variable a \n",
    "(college, student, type_ofcollege) = a \n",
    "\n",
    "# print college name \n",
    "print(college) \n",
    "\n",
    "# print no of student \n",
    "print(student) \n",
    "\n",
    "# print type of college \n",
    "print(type_ofcollege) \n"
   ]
  },
  {
   "cell_type": "code",
   "execution_count": 7,
   "metadata": {},
   "outputs": [
    {
     "data": {
      "text/plain": [
       "(1, 4)"
      ]
     },
     "execution_count": 7,
     "metadata": {},
     "output_type": "execute_result"
    }
   ],
   "source": [
    "def minmax(items):\n",
    "    return min(items),max(items)\n",
    "minmax([1,2,3,4])"
   ]
  },
  {
   "cell_type": "code",
   "execution_count": 8,
   "metadata": {},
   "outputs": [
    {
     "name": "stdout",
     "output_type": "stream",
     "text": [
      "1\n",
      "4\n"
     ]
    }
   ],
   "source": [
    "lower,upper=minmax([1,2,3,4])\n",
    "print(lower)\n",
    "print(upper)"
   ]
  },
  {
   "cell_type": "code",
   "execution_count": 9,
   "metadata": {},
   "outputs": [
    {
     "name": "stdout",
     "output_type": "stream",
     "text": [
      "5\n",
      "6\n",
      "7\n",
      "8\n"
     ]
    }
   ],
   "source": [
    "(a,(b,(c,d)))=(5,(6,(7,8)))\n",
    "print(a)\n",
    "print(b)\n",
    "print(c)\n",
    "print(d)"
   ]
  },
  {
   "cell_type": "code",
   "execution_count": 10,
   "metadata": {},
   "outputs": [
    {
     "name": "stdout",
     "output_type": "stream",
     "text": [
      "jelly bean\n"
     ]
    }
   ],
   "source": [
    "a,b=('jelly','bean')\n",
    "print(a,b)"
   ]
  },
  {
   "cell_type": "code",
   "execution_count": 11,
   "metadata": {},
   "outputs": [
    {
     "name": "stdout",
     "output_type": "stream",
     "text": [
      "bean jelly\n"
     ]
    }
   ],
   "source": [
    "a,b=b,a\n",
    "print(a,b)"
   ]
  },
  {
   "cell_type": "markdown",
   "metadata": {},
   "source": [
    "Python uses a special syntax to pass optional arguments (*args) for tuple unpacking. This means that there can be many number of arguments in place of (*args) in python. All values will be assigned to every variable on left hand side and all remaining values will be assigned to *args .For better understanding consider the following code."
   ]
  },
  {
   "cell_type": "code",
   "execution_count": 15,
   "metadata": {},
   "outputs": [
    {
     "name": "stdout",
     "output_type": "stream",
     "text": [
      "10\n",
      "['Geeks ', ' for ', 'Geeks ']\n",
      "50\n",
      "10\n",
      "Geeks \n",
      "[' for ', 'Geeks ', 50]\n"
     ]
    }
   ],
   "source": [
    "# Python code to study about \n",
    "# unpacking python tuple using * \n",
    "\n",
    "# first and last will be assigned to x and z \n",
    "# remaining will be assined to y \n",
    "x, *y, z = (10, \"Geeks \", \" for \", \"Geeks \", 50) \n",
    "\n",
    "# print details \n",
    "print(x) \n",
    "print(y) \n",
    "print(z) \n",
    "\n",
    "# first and second will be assigned to x and y \n",
    "# remaining will be assined to z \n",
    "x, y, *z = (10, \"Geeks \", \" for \", \"Geeks \", 50) \n",
    "print(x) \n",
    "print(y) \n",
    "print(z) \n"
   ]
  },
  {
   "cell_type": "markdown",
   "metadata": {},
   "source": [
    "In python tuples can be unpacked using a function in function tuple is passed and in function values are unpacked into normal variable. Consider the following code for better understanding."
   ]
  },
  {
   "cell_type": "code",
   "execution_count": 16,
   "metadata": {},
   "outputs": [
    {
     "name": "stdout",
     "output_type": "stream",
     "text": [
      "1000\n",
      "1000\n"
     ]
    }
   ],
   "source": [
    "# Python code to study about \n",
    "# unpacking python tuple using function \n",
    "\n",
    "# function takes normal arguments \n",
    "# and multiply them \n",
    "def result(x, y): \n",
    "\treturn x * y \n",
    "# function with normal variables \n",
    "print (result(10, 100)) \n",
    "\n",
    "# A tuple is created \n",
    "z = (10, 100) \n",
    "\n",
    "# Tuple is passed \n",
    "# function unpacked them \n",
    "\n",
    "print (result(*z)) \n"
   ]
  },
  {
   "cell_type": "code",
   "execution_count": 12,
   "metadata": {},
   "outputs": [
    {
     "data": {
      "text/plain": [
       "True"
      ]
     },
     "execution_count": 12,
     "metadata": {},
     "output_type": "execute_result"
    }
   ],
   "source": [
    "5 in (1,2,5,6)"
   ]
  },
  {
   "cell_type": "code",
   "execution_count": 13,
   "metadata": {},
   "outputs": [
    {
     "data": {
      "text/plain": [
       "False"
      ]
     },
     "execution_count": 13,
     "metadata": {},
     "output_type": "execute_result"
    }
   ],
   "source": [
    "5 not in (1,2,5,6)"
   ]
  }
 ],
 "metadata": {
  "kernelspec": {
   "display_name": "Python 3",
   "language": "python",
   "name": "python3"
  },
  "language_info": {
   "codemirror_mode": {
    "name": "ipython",
    "version": 3
   },
   "file_extension": ".py",
   "mimetype": "text/x-python",
   "name": "python",
   "nbconvert_exporter": "python",
   "pygments_lexer": "ipython3",
   "version": "3.7.3"
  }
 },
 "nbformat": 4,
 "nbformat_minor": 2
}
