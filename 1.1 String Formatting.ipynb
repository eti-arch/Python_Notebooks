{
 "cells": [
  {
   "cell_type": "markdown",
   "metadata": {},
   "source": [
    "###### Positional Arguments"
   ]
  },
  {
   "cell_type": "code",
   "execution_count": 1,
   "metadata": {},
   "outputs": [
    {
     "name": "stdout",
     "output_type": "stream",
     "text": [
      "My name is Jenn and I am 23 years old.\n",
      "My name is Jenn and I am 23 years old.\n",
      "My name is Jenn and I am 23 years old.\n",
      "<h1>This is a headline</h1>\n"
     ]
    }
   ],
   "source": [
    "person = {'name': 'Jenn', 'age': 23}\n",
    "\n",
    "sentence1 = 'My name is ' + person['name'] + ' and I am ' + str(person['age']) + ' years old.'\n",
    "print(sentence1)\n",
    "\n",
    "\n",
    "sentence2 = 'My name is {} and I am {} years old.'.format(person['name'], person['age'])\n",
    "print(sentence2)\n",
    "\n",
    "\n",
    "sentence3 = 'My name is {0} and I am {1} years old.'.format(person['name'], person['age'])\n",
    "print(sentence3)\n",
    "\n",
    "\n",
    "tag = 'h1'\n",
    "text = 'This is a headline'\n",
    "\n",
    "sentence4 = '<{0}>{1}</{0}>'.format(tag, text)\n",
    "print(sentence4)"
   ]
  },
  {
   "cell_type": "code",
   "execution_count": 2,
   "metadata": {},
   "outputs": [
    {
     "name": "stdout",
     "output_type": "stream",
     "text": [
      "My name is Jenn and I am 23 years old.\n"
     ]
    }
   ],
   "source": [
    "sentence5 = 'My name is {0[name]} and I am {0[age]} years old.'.format(person)\n",
    "print(sentence5)"
   ]
  },
  {
   "cell_type": "code",
   "execution_count": 3,
   "metadata": {},
   "outputs": [
    {
     "name": "stdout",
     "output_type": "stream",
     "text": [
      "My name is Jen and I am 23 years old.\n"
     ]
    }
   ],
   "source": [
    "l=['Jen',23]\n",
    "sentence6 = 'My name is {0[0]} and I am {0[1]} years old.'.format(l)\n",
    "print(sentence6)"
   ]
  },
  {
   "cell_type": "code",
   "execution_count": 6,
   "metadata": {},
   "outputs": [
    {
     "name": "stdout",
     "output_type": "stream",
     "text": [
      "My name is Jack and I am 33 years old.\n"
     ]
    }
   ],
   "source": [
    "class Person():\n",
    "\n",
    "    def __init__(self, name, age):\n",
    "        self.name = name\n",
    "        self.age = age\n",
    "\n",
    "p1 = Person('Jack', '33')\n",
    "\n",
    "sentence9 = 'My name is {0.name} and I am {0.age} years old.'.format(p1)\n",
    "print(sentence9)"
   ]
  },
  {
   "cell_type": "markdown",
   "metadata": {},
   "source": [
    "###### Keyword Arguments"
   ]
  },
  {
   "cell_type": "code",
   "execution_count": 4,
   "metadata": {},
   "outputs": [
    {
     "name": "stdout",
     "output_type": "stream",
     "text": [
      "My name is Jenn and I am 30 years old.\n",
      "My name is Jenn and I am 23 years old.\n"
     ]
    }
   ],
   "source": [
    "sentence7 = 'My name is {name} and I am {age} years old.'.format(name='Jenn', age='30')\n",
    "print(sentence7)\n",
    "\n",
    "sentence8 = 'My name is {name} and I am {age} years old.'.format(**person)\n",
    "print(sentence8)\n"
   ]
  },
  {
   "cell_type": "code",
   "execution_count": 7,
   "metadata": {},
   "outputs": [
    {
     "name": "stdout",
     "output_type": "stream",
     "text": [
      "The value is 1\n",
      "The value is 2\n",
      "The value is 3\n",
      "The value is 4\n",
      "The value is 5\n",
      "The value is 6\n",
      "The value is 7\n",
      "The value is 8\n",
      "The value is 9\n",
      "The value is 10\n"
     ]
    }
   ],
   "source": [
    "for i in range(1, 11):\n",
    "    sentence10 = 'The value is {}'.format(i)\n",
    "    print(sentence10)"
   ]
  },
  {
   "cell_type": "code",
   "execution_count": 8,
   "metadata": {},
   "outputs": [
    {
     "name": "stdout",
     "output_type": "stream",
     "text": [
      "Pi is equal to 3.14159265\n"
     ]
    }
   ],
   "source": [
    "pi = 3.14159265\n",
    "\n",
    "sentence11 = 'Pi is equal to {}'.format(pi)\n",
    "\n",
    "print(sentence11)"
   ]
  },
  {
   "cell_type": "code",
   "execution_count": 9,
   "metadata": {},
   "outputs": [
    {
     "name": "stdout",
     "output_type": "stream",
     "text": [
      "2016-09-24 12:30:45\n"
     ]
    }
   ],
   "source": [
    "import datetime\n",
    "\n",
    "my_date = datetime.datetime(2016, 9, 24, 12, 30, 45)\n",
    "\n",
    "print(my_date)\n",
    "\n",
    "sentence12 = '{:%B %d, %Y}'.format(my_date)\n",
    "\n",
    "print(sentence12)"
   ]
  },
  {
   "cell_type": "code",
   "execution_count": 13,
   "metadata": {},
   "outputs": [
    {
     "name": "stdout",
     "output_type": "stream",
     "text": [
      "2016-09-24 12:30:45\n",
      "September 24, 2016\n"
     ]
    },
    {
     "ename": "IndexError",
     "evalue": "tuple index out of range",
     "output_type": "error",
     "traceback": [
      "\u001b[1;31m---------------------------------------------------------------------------\u001b[0m",
      "\u001b[1;31mIndexError\u001b[0m                                Traceback (most recent call last)",
      "\u001b[1;32m<ipython-input-13-660619778150>\u001b[0m in \u001b[0;36m<module>\u001b[1;34m\u001b[0m\n\u001b[0;32m      9\u001b[0m \u001b[0mprint\u001b[0m\u001b[1;33m(\u001b[0m\u001b[0msentence13\u001b[0m\u001b[1;33m)\u001b[0m\u001b[1;33m\u001b[0m\u001b[1;33m\u001b[0m\u001b[0m\n\u001b[0;32m     10\u001b[0m \u001b[1;33m\u001b[0m\u001b[0m\n\u001b[1;32m---> 11\u001b[1;33m \u001b[0msentence14\u001b[0m \u001b[1;33m=\u001b[0m \u001b[1;34m'{:%B %d, %Y} fell on a {} and was the {} day of the year'\u001b[0m\u001b[1;33m.\u001b[0m\u001b[0mformat\u001b[0m\u001b[1;33m(\u001b[0m\u001b[0mmy_date\u001b[0m\u001b[1;33m)\u001b[0m\u001b[1;33m\u001b[0m\u001b[1;33m\u001b[0m\u001b[0m\n\u001b[0m\u001b[0;32m     12\u001b[0m \u001b[1;33m\u001b[0m\u001b[0m\n\u001b[0;32m     13\u001b[0m \u001b[0mprint\u001b[0m\u001b[1;33m(\u001b[0m\u001b[0msentence14\u001b[0m\u001b[1;33m)\u001b[0m\u001b[1;33m\u001b[0m\u001b[1;33m\u001b[0m\u001b[0m\n",
      "\u001b[1;31mIndexError\u001b[0m: tuple index out of range"
     ]
    }
   ],
   "source": [
    "import datetime\n",
    "\n",
    "my_date = datetime.datetime(2016, 9, 24, 12, 30, 45)\n",
    "\n",
    "print(my_date)\n",
    "\n",
    "sentence13 = '{:%B %d, %Y}'.format(my_date)\n",
    "\n",
    "print(sentence13)\n",
    "\n",
    "sentence14 = '{:%B %d, %Y} fell on a {} and was the {} day of the year'.format(my_date)\n",
    "\n",
    "print(sentence14)"
   ]
  },
  {
   "cell_type": "code",
   "execution_count": null,
   "metadata": {},
   "outputs": [],
   "source": []
  }
 ],
 "metadata": {
  "kernelspec": {
   "display_name": "Python 3",
   "language": "python",
   "name": "python3"
  },
  "language_info": {
   "codemirror_mode": {
    "name": "ipython",
    "version": 3
   },
   "file_extension": ".py",
   "mimetype": "text/x-python",
   "name": "python",
   "nbconvert_exporter": "python",
   "pygments_lexer": "ipython3",
   "version": "3.7.3"
  }
 },
 "nbformat": 4,
 "nbformat_minor": 2
}
