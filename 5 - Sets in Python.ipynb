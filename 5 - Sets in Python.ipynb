{
 "cells": [
  {
   "cell_type": "markdown",
   "metadata": {},
   "source": [
    "A Set is an unordered collection data type that is iterable, mutable, and has no duplicate elements. Python’s set class represents the mathematical notion of a set. The major advantage of using a set, as opposed to a list, is that it has a highly optimized method for checking whether a specific element is contained in the set. This is based on a data structure known as a hash table.\n",
    "\n",
    "Frozen Sets Frozen sets are immutable objects that only support methods and operators that produce a result without affecting the frozen set or sets to which they are applied."
   ]
  },
  {
   "cell_type": "code",
   "execution_count": 1,
   "metadata": {},
   "outputs": [
    {
     "name": "stdout",
     "output_type": "stream",
     "text": [
      "Normal Set\n",
      "{'a', 'c', 'd', 'b'}\n",
      "Frozen Set\n",
      "frozenset({'e', 'f', 'g'})\n"
     ]
    }
   ],
   "source": [
    "# Python program to demonstrate differences \n",
    "# between normal and frozen set \n",
    "\n",
    "# Same as {\"a\", \"b\",\"c\"} \n",
    "normal_set = set([\"a\", \"b\",\"c\"]) \n",
    "\n",
    "# Adding an element to normal set is fine \n",
    "normal_set.add(\"d\") \n",
    "\n",
    "print(\"Normal Set\") \n",
    "print(normal_set) \n",
    "\n",
    "# A frozen set \n",
    "frozen_set = frozenset([\"e\", \"f\", \"g\"]) \n",
    "\n",
    "print(\"Frozen Set\") \n",
    "print(frozen_set) \n",
    "\n",
    "# Uncommenting below line would cause error as \n",
    "# we are trying to add element to a frozen set \n",
    "# frozen_set.add(\"h\") \n"
   ]
  },
  {
   "cell_type": "code",
   "execution_count": null,
   "metadata": {},
   "outputs": [],
   "source": [
    " Methods for Sets\n",
    "1. add(x) Method: Adds the item x to set if it is not already present in the set.\n",
    "\n",
    "people = {\"Jay\", \"Idrish\", \"Archil\"}\n",
    "people.add(\"Daxit\") \n",
    "-> This will add Daxit in people set.\n",
    "\n",
    "2. union(s) Method: Returns a union of two set.Using the ‘|’ operator between 2 sets is the same as writing set1.union(set2)\n",
    "\n",
    "people = {\"Jay\", \"Idrish\", \"Archil\"}\n",
    "vampires = {\"Karan\", \"Arjun\"}\n",
    "population = people.union(vampires)\n",
    "OR\n",
    "population = people|vampires\n",
    "-> Set population set will have components of both people and vampire\n",
    "\n",
    "3. intersect(s) Method: Returns an intersection of two sets.The ‘&’ operator comes can also be used in this case.\n",
    "\n",
    "victims = people.intersection(vampires)\n",
    "-> Set victims will contain the common element of people and vampire\n",
    "\n",
    "4. difference(s) Method: Returns a set containing all the elements of invoking set but not of the second set. We can use ‘-‘ operator here.\n",
    "\n",
    "safe = people.difference(vampires)\n",
    "OR\n",
    "safe = people – vampires\n",
    "-> Set safe  will have all the elements that are in people but not vampire\n",
    "5. clear() Method: Empties the whole set.\n",
    "\n",
    "victims.clear()\n",
    "-> Clears victim set\n",
    "\n",
    "However there are two major pitfalls in Python sets:\n",
    "\n",
    "The set doesn’t maintain elements in any particular order.\n",
    "Only instances of immutable types can be added to a Python set.\n",
    "Operators for Sets\n",
    "Sets and frozen sets support the following operators:\n",
    "\n",
    "key in s       # containment check\n",
    "\n",
    "key not in s   # non-containment check\n",
    "\n",
    "s1 == s2       # s1 is equivalent to s2\n",
    "\n",
    "s1 != s2       # s1 is not equivalent to s2\n",
    "\n",
    "s1 <= s2    # s1is subset of s2 s1 < s2     # s1 is proper subset of s2 s1 >= s2    # s1is superset of s2\n",
    "\n",
    "s1 > s2     # s1 is proper superset of s2\n",
    "\n",
    "s1 | s2        # the union of s1 and s2\n",
    "\n",
    "s1 & s2 # the intersection of s1 and s2\n",
    "\n",
    "s1 – s2        # the set of elements in s1 but not s2\n",
    "\n",
    "s1 ˆ s2        # the set of elements in precisely one of s1 or s2\n",
    "\n"
   ]
  },
  {
   "cell_type": "code",
   "execution_count": 1,
   "metadata": {},
   "outputs": [
    {
     "name": "stdout",
     "output_type": "stream",
     "text": [
      "Set1 =  {1, 2, 3, 4, 5}\n",
      "Set2 =  {3, 4, 5, 6, 7}\n",
      "\n",
      "\n",
      "Union of Set1 & Set2: Set3 =  {1, 2, 3, 4, 5, 6, 7}\n",
      "Intersection of Set1 & Set2: Set4 =  {3, 4, 5}\n",
      "\n",
      "\n",
      "Set3 is superset of Set4\n",
      "Set4 is subset of Set3\n",
      "\n",
      "\n",
      "Elements in Set3 and not in Set4: Set5 =  {1, 2, 6, 7}\n",
      "\n",
      "\n",
      "Set4 and Set5 have nothing in common\n",
      "\n",
      "After applying clear on sets Set5: \n",
      "Set5 =  set()\n"
     ]
    }
   ],
   "source": [
    "# Python program to demonstrate working# of \n",
    "# Set in Python \n",
    "\n",
    "# Creating two sets \n",
    "set1 = set() \n",
    "set2 = set() \n",
    "\n",
    "# Adding elements to set1 \n",
    "for i in range(1, 6): \n",
    "\tset1.add(i) \n",
    "\n",
    "# Adding elements to set2 \n",
    "for i in range(3, 8): \n",
    "\tset2.add(i) \n",
    "\n",
    "print(\"Set1 = \", set1) \n",
    "print(\"Set2 = \", set2) \n",
    "print(\"\\n\") \n",
    "\n",
    "# Union of set1 and set2 \n",
    "set3 = set1 | set2# set1.union(set2) \n",
    "print(\"Union of Set1 & Set2: Set3 = \", set3) \n",
    "\n",
    "# Intersection of set1 and set2 \n",
    "set4 = set1 & set2# set1.intersection(set2) \n",
    "print(\"Intersection of Set1 & Set2: Set4 = \", set4) \n",
    "print(\"\\n\") \n",
    "\n",
    "# Checking relation between set3 and set4 \n",
    "if set3 > set4: # set3.issuperset(set4) \n",
    "\tprint(\"Set3 is superset of Set4\") \n",
    "elif set3 < set4: # set3.issubset(set4) \n",
    "\tprint(\"Set3 is subset of Set4\") \n",
    "else : # set3 == set4 \n",
    "\tprint(\"Set3 is same as Set4\") \n",
    "\n",
    "# displaying relation between set4 and set3 \n",
    "if set4 < set3: # set4.issubset(set3) \n",
    "\tprint(\"Set4 is subset of Set3\") \n",
    "\tprint(\"\\n\") \n",
    "\n",
    "# difference between set3 and set4 \n",
    "set5 = set3 - set4 \n",
    "print(\"Elements in Set3 and not in Set4: Set5 = \", set5) \n",
    "print(\"\\n\") \n",
    "\n",
    "# checkv if set4 and set5 are disjoint sets \n",
    "if set4.isdisjoint(set5): \n",
    "\tprint(\"Set4 and Set5 have nothing in common\\n\") \n",
    "\n",
    "# Removing all the values of set5 \n",
    "set5.clear() \n",
    "\n",
    "print(\"After applying clear on sets Set5: \") \n",
    "print(\"Set5 = \", set5) \n"
   ]
  },
  {
   "cell_type": "code",
   "execution_count": 3,
   "metadata": {},
   "outputs": [
    {
     "data": {
      "text/plain": [
       "{'a', 'b', 'c', 'd', 'e'}"
      ]
     },
     "execution_count": 3,
     "metadata": {},
     "output_type": "execute_result"
    }
   ],
   "source": [
    "set6=set(['a','b','c','d','e'])\n",
    "set6"
   ]
  },
  {
   "cell_type": "code",
   "execution_count": 4,
   "metadata": {},
   "outputs": [
    {
     "data": {
      "text/plain": [
       "{'a', 'b', 'c', 'd'}"
      ]
     },
     "execution_count": 4,
     "metadata": {},
     "output_type": "execute_result"
    }
   ],
   "source": [
    "set6.remove('e')\n",
    "set6"
   ]
  },
  {
   "cell_type": "code",
   "execution_count": 6,
   "metadata": {},
   "outputs": [
    {
     "data": {
      "text/plain": [
       "{'a', 'b', 'c', 'd', 'f', 'g', 'h'}"
      ]
     },
     "execution_count": 6,
     "metadata": {},
     "output_type": "execute_result"
    }
   ],
   "source": [
    "set6.update(['f','g','h'])\n",
    "set6"
   ]
  },
  {
   "cell_type": "code",
   "execution_count": 8,
   "metadata": {},
   "outputs": [
    {
     "data": {
      "text/plain": [
       "{'a', 'b', 'c', 'd', 'f', 'g'}"
      ]
     },
     "execution_count": 8,
     "metadata": {},
     "output_type": "execute_result"
    }
   ],
   "source": [
    "set6.discard('h')\n",
    "set6"
   ]
  },
  {
   "cell_type": "code",
   "execution_count": 10,
   "metadata": {},
   "outputs": [
    {
     "data": {
      "text/plain": [
       "{'a', 'b', 'c', 'd', 'f', 'g'}"
      ]
     },
     "execution_count": 10,
     "metadata": {},
     "output_type": "execute_result"
    }
   ],
   "source": [
    "set6.discard('t')\n",
    "set6"
   ]
  },
  {
   "cell_type": "code",
   "execution_count": 11,
   "metadata": {},
   "outputs": [
    {
     "ename": "KeyError",
     "evalue": "'t'",
     "output_type": "error",
     "traceback": [
      "\u001b[1;31m---------------------------------------------------------------------------\u001b[0m",
      "\u001b[1;31mKeyError\u001b[0m                                  Traceback (most recent call last)",
      "\u001b[1;32m<ipython-input-11-a47901b1f2f2>\u001b[0m in \u001b[0;36m<module>\u001b[1;34m\u001b[0m\n\u001b[1;32m----> 1\u001b[1;33m \u001b[0mset6\u001b[0m\u001b[1;33m.\u001b[0m\u001b[0mremove\u001b[0m\u001b[1;33m(\u001b[0m\u001b[1;34m't'\u001b[0m\u001b[1;33m)\u001b[0m\u001b[1;33m\u001b[0m\u001b[1;33m\u001b[0m\u001b[0m\n\u001b[0m\u001b[0;32m      2\u001b[0m \u001b[0mset6\u001b[0m\u001b[1;33m\u001b[0m\u001b[1;33m\u001b[0m\u001b[0m\n",
      "\u001b[1;31mKeyError\u001b[0m: 't'"
     ]
    }
   ],
   "source": [
    "set6.remove('t')\n",
    "set6"
   ]
  },
  {
   "cell_type": "code",
   "execution_count": 15,
   "metadata": {},
   "outputs": [
    {
     "data": {
      "text/plain": [
       "{'a', 'b', 'c', 'd', 'f', 'g'}"
      ]
     },
     "execution_count": 15,
     "metadata": {},
     "output_type": "execute_result"
    }
   ],
   "source": [
    "set7=set6.copy()\n",
    "#alternative\n",
    "#set7=set(set6)\n",
    "set7"
   ]
  },
  {
   "cell_type": "raw",
   "metadata": {},
   "source": [
    "Symmetric Difference :\n",
    "\n",
    "If there are a set_A and set_B, then the symmetric difference between them will be equal to the union of set_A and set_B without the intersection between the two."
   ]
  },
  {
   "cell_type": "code",
   "execution_count": 16,
   "metadata": {},
   "outputs": [
    {
     "name": "stdout",
     "output_type": "stream",
     "text": [
      "{1, 2, 5, 6, 7, 9}\n"
     ]
    }
   ],
   "source": [
    "# Python code to find the symmetric_difference \n",
    "# Use of symmetric_difference() method \n",
    "\n",
    "set_A = {1, 2, 3, 4, 5} \n",
    "set_B = {6, 7, 3, 9, 4} \n",
    "print(set_A.symmetric_difference(set_B)) \n"
   ]
  },
  {
   "cell_type": "raw",
   "metadata": {},
   "source": [
    "There is also another method to get the symmetric difference between two sets, by the use of an operator “^“."
   ]
  },
  {
   "cell_type": "code",
   "execution_count": 17,
   "metadata": {},
   "outputs": [
    {
     "name": "stdout",
     "output_type": "stream",
     "text": [
      "{'rishav', 'rahim', 'shyam', 'ravi'}\n"
     ]
    }
   ],
   "source": [
    "# Python code to find the Symmetric difference \n",
    "# using ^ operator. \n",
    "\n",
    "# Driver Code \n",
    "set_A = {\"ram\", \"rahim\", \"ajay\", \"rishav\", \"aakash\"} \n",
    "set_B = {\"aakash\", \"ajay\", \"shyam\", \"ram\", \"ravi\"} \n",
    "print(set_A ^ set_B) \n"
   ]
  },
  {
   "cell_type": "code",
   "execution_count": null,
   "metadata": {},
   "outputs": [],
   "source": []
  }
 ],
 "metadata": {
  "kernelspec": {
   "display_name": "Python 3",
   "language": "python",
   "name": "python3"
  },
  "language_info": {
   "codemirror_mode": {
    "name": "ipython",
    "version": 3
   },
   "file_extension": ".py",
   "mimetype": "text/x-python",
   "name": "python",
   "nbconvert_exporter": "python",
   "pygments_lexer": "ipython3",
   "version": "3.7.3"
  }
 },
 "nbformat": 4,
 "nbformat_minor": 2
}
