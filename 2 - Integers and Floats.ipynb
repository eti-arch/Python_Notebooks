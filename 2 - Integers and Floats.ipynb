{
 "cells": [
  {
   "cell_type": "markdown",
   "metadata": {},
   "source": [
    "variable references a certain value /stores the adress of a value."
   ]
  },
  {
   "cell_type": "markdown",
   "metadata": {},
   "source": [
    "The rules for variable names are pretty simple. It starts with a letter, and it's a single word containing letters and underscores and numbers.variable names in python are generally lowercase letters separated by underscore.\n",
    "\n",
    "Type is a function. It takes as input some object, and it spits out what data type Python understands that object to be. \n",
    "\n",
    "Datatypes in Python : Intergers,Floats,String,Boolean\n"
   ]
  },
  {
   "cell_type": "markdown",
   "metadata": {},
   "source": [
    "Integers are whole numbers wheras floats are decimal."
   ]
  },
  {
   "cell_type": "code",
   "execution_count": 17,
   "metadata": {},
   "outputs": [
    {
     "data": {
      "text/plain": [
       "int"
      ]
     },
     "execution_count": 17,
     "metadata": {},
     "output_type": "execute_result"
    }
   ],
   "source": [
    "type(1)"
   ]
  },
  {
   "cell_type": "code",
   "execution_count": 18,
   "metadata": {},
   "outputs": [
    {
     "data": {
      "text/plain": [
       "float"
      ]
     },
     "execution_count": 18,
     "metadata": {},
     "output_type": "execute_result"
    }
   ],
   "source": [
    "type(1.0)"
   ]
  },
  {
   "cell_type": "code",
   "execution_count": 19,
   "metadata": {},
   "outputs": [
    {
     "data": {
      "text/plain": [
       "str"
      ]
     },
     "execution_count": 19,
     "metadata": {},
     "output_type": "execute_result"
    }
   ],
   "source": [
    "type(\"eti\")"
   ]
  },
  {
   "cell_type": "code",
   "execution_count": 20,
   "metadata": {},
   "outputs": [
    {
     "data": {
      "text/plain": [
       "bool"
      ]
     },
     "execution_count": 20,
     "metadata": {},
     "output_type": "execute_result"
    }
   ],
   "source": [
    "type(False)"
   ]
  },
  {
   "cell_type": "code",
   "execution_count": 21,
   "metadata": {},
   "outputs": [
    {
     "data": {
      "text/plain": [
       "bool"
      ]
     },
     "execution_count": 21,
     "metadata": {},
     "output_type": "execute_result"
    }
   ],
   "source": [
    "type(True)"
   ]
  },
  {
   "cell_type": "raw",
   "metadata": {},
   "source": [
    "ARITHMETIC OPERATOR   DESCRIPTION                                                                   SYNTAX\n",
    "+                     Addition: adds two operands                                                   x+y\n",
    "-                     Subtraction: subtracts two operands                                           x-y\n",
    "*                     Multiplication: multiplies two operands                                       x*y\n",
    "/                     Division (float): divides the first operand by the second                     x/y\n",
    "//                    Division (floor): divides the first operand by the second                     x//y\n",
    "%                     Modulus: returns the remainder when first operand is divided by the second    x%y"
   ]
  },
  {
   "cell_type": "code",
   "execution_count": 1,
   "metadata": {},
   "outputs": [
    {
     "data": {
      "text/plain": [
       "7.5"
      ]
     },
     "execution_count": 1,
     "metadata": {},
     "output_type": "execute_result"
    }
   ],
   "source": [
    "3.25+4.25"
   ]
  },
  {
   "cell_type": "code",
   "execution_count": 2,
   "metadata": {},
   "outputs": [
    {
     "data": {
      "text/plain": [
       "4"
      ]
     },
     "execution_count": 2,
     "metadata": {},
     "output_type": "execute_result"
    }
   ],
   "source": [
    "2+2"
   ]
  },
  {
   "cell_type": "code",
   "execution_count": 3,
   "metadata": {},
   "outputs": [
    {
     "data": {
      "text/plain": [
       "8"
      ]
     },
     "execution_count": 3,
     "metadata": {},
     "output_type": "execute_result"
    }
   ],
   "source": [
    "4*2"
   ]
  },
  {
   "cell_type": "code",
   "execution_count": 4,
   "metadata": {},
   "outputs": [
    {
     "data": {
      "text/plain": [
       "16"
      ]
     },
     "execution_count": 4,
     "metadata": {},
     "output_type": "execute_result"
    }
   ],
   "source": [
    "2**4"
   ]
  },
  {
   "cell_type": "code",
   "execution_count": 5,
   "metadata": {},
   "outputs": [
    {
     "data": {
      "text/plain": [
       "16"
      ]
     },
     "execution_count": 5,
     "metadata": {},
     "output_type": "execute_result"
    }
   ],
   "source": [
    "pow(2,4)"
   ]
  },
  {
   "cell_type": "code",
   "execution_count": 6,
   "metadata": {},
   "outputs": [
    {
     "data": {
      "text/plain": [
       "2.0"
      ]
     },
     "execution_count": 6,
     "metadata": {},
     "output_type": "execute_result"
    }
   ],
   "source": [
    "4/2"
   ]
  },
  {
   "cell_type": "code",
   "execution_count": 7,
   "metadata": {},
   "outputs": [
    {
     "data": {
      "text/plain": [
       "9"
      ]
     },
     "execution_count": 7,
     "metadata": {},
     "output_type": "execute_result"
    }
   ],
   "source": [
    "x=4\n",
    "x+5"
   ]
  },
  {
   "cell_type": "code",
   "execution_count": 8,
   "metadata": {},
   "outputs": [
    {
     "data": {
      "text/plain": [
       "0"
      ]
     },
     "execution_count": 8,
     "metadata": {},
     "output_type": "execute_result"
    }
   ],
   "source": [
    "4%2"
   ]
  },
  {
   "cell_type": "code",
   "execution_count": 1,
   "metadata": {},
   "outputs": [
    {
     "data": {
      "text/plain": [
       "13.333333333333334"
      ]
     },
     "execution_count": 1,
     "metadata": {},
     "output_type": "execute_result"
    }
   ],
   "source": [
    "40/3"
   ]
  },
  {
   "cell_type": "code",
   "execution_count": 9,
   "metadata": {},
   "outputs": [
    {
     "data": {
      "text/plain": [
       "13"
      ]
     },
     "execution_count": 9,
     "metadata": {},
     "output_type": "execute_result"
    }
   ],
   "source": [
    "# Floor Operator\n",
    "40//3"
   ]
  },
  {
   "cell_type": "code",
   "execution_count": 3,
   "metadata": {},
   "outputs": [
    {
     "data": {
      "text/plain": [
       "-4"
      ]
     },
     "execution_count": 3,
     "metadata": {},
     "output_type": "execute_result"
    }
   ],
   "source": [
    "-40//13"
   ]
  },
  {
   "cell_type": "code",
   "execution_count": 11,
   "metadata": {},
   "outputs": [
    {
     "data": {
      "text/plain": [
       "8"
      ]
     },
     "execution_count": 11,
     "metadata": {},
     "output_type": "execute_result"
    }
   ],
   "source": [
    "x*2"
   ]
  },
  {
   "cell_type": "code",
   "execution_count": 1,
   "metadata": {},
   "outputs": [
    {
     "data": {
      "text/plain": [
       "3.25"
      ]
     },
     "execution_count": 1,
     "metadata": {},
     "output_type": "execute_result"
    }
   ],
   "source": [
    "abs(-3.25)"
   ]
  },
  {
   "cell_type": "code",
   "execution_count": 2,
   "metadata": {},
   "outputs": [
    {
     "data": {
      "text/plain": [
       "3"
      ]
     },
     "execution_count": 2,
     "metadata": {},
     "output_type": "execute_result"
    }
   ],
   "source": [
    "round(3.25)"
   ]
  },
  {
   "cell_type": "code",
   "execution_count": 3,
   "metadata": {},
   "outputs": [
    {
     "data": {
      "text/plain": [
       "3.2"
      ]
     },
     "execution_count": 3,
     "metadata": {},
     "output_type": "execute_result"
    }
   ],
   "source": [
    "round(3.25,1)"
   ]
  },
  {
   "cell_type": "raw",
   "metadata": {},
   "source": [
    "Relational Operators: Relational operators compares the values. It either returns True or False according to the condition.\n",
    "OPERATOR\tDESCRIPTION\t                                                                                   SYNTAX\n",
    ">\t        Greater than: True if left operand is greater than the right\t                               x > y\n",
    "<\t        Less than: True if left operand is less than the right\t                                       x < y\n",
    "==\t        Equal to: True if both operands are equal\t                                                   x == y\n",
    "!=\t        Not equal to - True if operands are not equal\t                                               x != y\n",
    ">=\t        Greater than or equal to: True if left operand is greater than or equal to the right\t       x >= y\n",
    "<=\t        Less than or equal to: True if left operand is less than or equal to the right\t               x <= y"
   ]
  },
  {
   "cell_type": "code",
   "execution_count": 12,
   "metadata": {},
   "outputs": [
    {
     "name": "stdout",
     "output_type": "stream",
     "text": [
      "False\n",
      "True\n",
      "False\n",
      "True\n",
      "False\n",
      "True\n"
     ]
    }
   ],
   "source": [
    "# Examples of Relational Operators \n",
    "a = 13\n",
    "b = 33\n",
    "\n",
    "# a > b is False \n",
    "print(a > b) \n",
    "\n",
    "# a < b is True \n",
    "print(a < b) \n",
    "\n",
    "# a == b is False \n",
    "print(a == b) \n",
    "\n",
    "# a != b is True \n",
    "print(a != b) \n",
    "\n",
    "# a >= b is False \n",
    "print(a >= b) \n",
    "\n",
    "# a <= b is True \n",
    "print(a <= b) "
   ]
  },
  {
   "cell_type": "raw",
   "metadata": {},
   "source": [
    "LOGICAL OPERATOR       DESCRIPTION                                                                   SYNTAX\n",
    "and                    Logical AND: True if both the operands are true                               x and y\n",
    "or                     Logical OR: True if either of the operands is true                            x or y\n",
    "not                    Logical NOT: True if operand is false                                         x noty"
   ]
  },
  {
   "cell_type": "code",
   "execution_count": 13,
   "metadata": {},
   "outputs": [
    {
     "name": "stdout",
     "output_type": "stream",
     "text": [
      "False\n",
      "True\n",
      "False\n"
     ]
    }
   ],
   "source": [
    "# Examples of Logical Operator \n",
    "a = True\n",
    "b = False\n",
    "\n",
    "# Print a and b is False \n",
    "print(a and b) \n",
    "\n",
    "# Print a or b is True \n",
    "print(a or b) \n",
    "\n",
    "# Print not a is False \n",
    "print(not a) "
   ]
  },
  {
   "cell_type": "raw",
   "metadata": {},
   "source": [
    "Bitwise operators: Bitwise operators acts on bits and performs bit by bit operation.\n",
    "OPERATOR\tDESCRIPTION\t            SYNTAX\n",
    "&\t        Bitwise AND\t            x & y\n",
    "|\t        Bitwise OR\t            x | y\n",
    "~\t        Bitwise NOT\t            ~x\n",
    "^\t        Bitwise XOR\t            x ^ y\n",
    ">>\t        Bitwise right shift\t    x>>\n",
    "<<\t        Bitwise left shift\t    x<<"
   ]
  },
  {
   "cell_type": "code",
   "execution_count": 14,
   "metadata": {},
   "outputs": [],
   "source": [
    "# Examples of Bitwise operators \n",
    "a = 10\n",
    "b = 4"
   ]
  },
  {
   "cell_type": "code",
   "execution_count": 15,
   "metadata": {},
   "outputs": [
    {
     "name": "stdout",
     "output_type": "stream",
     "text": [
      "0\n",
      "14\n",
      "-11\n",
      "14\n",
      "2\n",
      "40\n"
     ]
    }
   ],
   "source": [
    "# Print bitwise AND operation   \n",
    "print(a & b) \n",
    "  \n",
    "# Print bitwise OR operation \n",
    "print(a | b) \n",
    "  \n",
    "# Print bitwise NOT operation  \n",
    "print(~a) \n",
    "  \n",
    "# print bitwise XOR operation  \n",
    "print(a ^ b) \n",
    "  \n",
    "# print bitwise right shift operation  \n",
    "print(a >> 2) \n",
    "  \n",
    "# print bitwise left shift operation  \n",
    "print(a << 2) "
   ]
  },
  {
   "cell_type": "raw",
   "metadata": {},
   "source": [
    "Assignment operators: Assignment operators are used to assign values to the variables.\n",
    "\n",
    "\n",
    "OPERATOR\tDESCRIPTION\t                                                                                  SYNTAX\n",
    "=\t        Assign value of right side of expression to left side operand\t                                  x = y + z\n",
    "+=\tAdd AND: Add right side operand with left side operand and then assign to left operand\t              a+=b     a=a+b\n",
    "-=\tSubtract AND: Subtract right operand from left operand and then assign to left operand\t              a-=b     a=a-b\n",
    "*=\tMultiply AND: Multiply right operand with left operand and then assign to left operand\t              a*=b     a=a*b\n",
    "/=\tDivide AND: Divide left operand with right operand and then assign to left operand\t                  a/=b     a=a/b\n",
    "%=\tModulus AND: Takes modulus using left and right operands and assign result to left operand\t          a%=b     a=a%b\n",
    "//=\tDivide(floor) AND: Divide left operand with right operand and then assign the value(floor) to left operand\ta//=b       a=a//b\n",
    "**=\tExponent AND: Calculate exponent(raise power) value using operands and assign value to left operand\t  a**=b     a=a**b\n",
    "&=\tPerforms Bitwise AND on operands and assign value to left operand\t                                  a&=b     a=a&b\n",
    "|=\tPerforms Bitwise OR on operands and assign value to left operand\t                                  a|=b        a=a|b\n",
    "^=\tPerforms Bitwise xOR on operands and assign value to left operand\t                                  a^=b       a=a^b\n",
    ">>=\tPerforms Bitwise right shift on operands and assign value to left operand\t                          a>>=b     a=a>>b\n",
    "<<=\tPerforms Bitwise left shift on operands and assign value to left operand\t                       a <<= b      a= a << b\n"
   ]
  },
  {
   "cell_type": "raw",
   "metadata": {},
   "source": [
    "Special operators: There are some special type of operators like-\n",
    "Identity operators-\n",
    "is and is not are the identity operators both are used to check if two values are located on the same part of the memory. \n",
    "Two variables that are equal does not imply that they are identical.\n",
    "is          True if the operands are identical \n",
    "is not      True if the operands are not identical"
   ]
  },
  {
   "cell_type": "code",
   "execution_count": null,
   "metadata": {},
   "outputs": [],
   "source": [
    "# Examples of Identity operators \n",
    "a1 = 3\n",
    "b1 = 3\n",
    "a2 = 'GeeksforGeeks'\n",
    "b2 = 'GeeksforGeeks'\n",
    "a3 = [1,2,3] \n",
    "b3 = [1,2,3] \n",
    "\n",
    "\n",
    "print(a1 is not b1) \n",
    "\n",
    "\n",
    "print(a2 is b2) \n",
    "\n",
    "# Output is False, since lists are mutable. \n",
    "print(a3 is b3) \n"
   ]
  },
  {
   "cell_type": "raw",
   "metadata": {},
   "source": [
    "In Python, in general, the white space in a line doesn't matter.\n",
    "So for example, 1 plus 2 with spaces is exactly the same as 1 plus 2 without spaces.\n",
    "Order of operations follows BODMAS ordering system.\n",
    "Brackets:Parentheses()\n",
    "Order :Raising any number to the power of something else square, cube,square root,cuberoot,\n",
    "Divison\n",
    "Multiplication\n",
    "Addition\n",
    "Subtraction\n",
    "\n"
   ]
  },
  {
   "cell_type": "markdown",
   "metadata": {},
   "source": [
    "###### Casting"
   ]
  },
  {
   "cell_type": "code",
   "execution_count": 4,
   "metadata": {},
   "outputs": [
    {
     "name": "stdout",
     "output_type": "stream",
     "text": [
      "100200\n"
     ]
    }
   ],
   "source": [
    "num_1='100'\n",
    "num_2='200'\n",
    "print(num_1+num_2)"
   ]
  },
  {
   "cell_type": "code",
   "execution_count": 5,
   "metadata": {},
   "outputs": [
    {
     "name": "stdout",
     "output_type": "stream",
     "text": [
      "300\n"
     ]
    }
   ],
   "source": [
    "print(int(num_1)+int(num_2))"
   ]
  }
 ],
 "metadata": {
  "kernelspec": {
   "display_name": "Python 3",
   "language": "python",
   "name": "python3"
  },
  "language_info": {
   "codemirror_mode": {
    "name": "ipython",
    "version": 3
   },
   "file_extension": ".py",
   "mimetype": "text/x-python",
   "name": "python",
   "nbconvert_exporter": "python",
   "pygments_lexer": "ipython3",
   "version": "3.7.3"
  }
 },
 "nbformat": 4,
 "nbformat_minor": 2
}
