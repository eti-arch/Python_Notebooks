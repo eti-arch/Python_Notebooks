{
 "cells": [
  {
   "cell_type": "code",
   "execution_count": 4,
   "metadata": {},
   "outputs": [
    {
     "data": {
      "text/plain": [
       "3"
      ]
     },
     "execution_count": 4,
     "metadata": {},
     "output_type": "execute_result"
    }
   ],
   "source": [
    "import my_module\n",
    "list1=[1,2,3,4]\n",
    "my_module.find_index(list1,4)\n",
    "\n",
    "#Or\n",
    "# import my_module as mm\n",
    "# mm.find_index(list1,4)"
   ]
  },
  {
   "cell_type": "code",
   "execution_count": 5,
   "metadata": {},
   "outputs": [
    {
     "data": {
      "text/plain": [
       "1"
      ]
     },
     "execution_count": 5,
     "metadata": {},
     "output_type": "execute_result"
    }
   ],
   "source": [
    "from my_module import find_index\n",
    "my_module.find_index(list1,2)\n",
    "\n",
    "# or\n",
    "# from my_module import find_index as fi\n",
    "# my_module.ff(list1,2)"
   ]
  },
  {
   "cell_type": "markdown",
   "metadata": {},
   "source": [
    "###### Python look for the modules in the sys path in sequence mentioned below :"
   ]
  },
  {
   "cell_type": "code",
   "execution_count": 6,
   "metadata": {},
   "outputs": [
    {
     "name": "stdout",
     "output_type": "stream",
     "text": [
      "['C:\\\\Users\\\\etida\\\\Pytho_lib\\\\Core Python', 'C:\\\\Users\\\\etida\\\\Anaconda3\\\\python37.zip', 'C:\\\\Users\\\\etida\\\\Anaconda3\\\\DLLs', 'C:\\\\Users\\\\etida\\\\Anaconda3\\\\lib', 'C:\\\\Users\\\\etida\\\\Anaconda3', '', 'C:\\\\Users\\\\etida\\\\Anaconda3\\\\lib\\\\site-packages', 'C:\\\\Users\\\\etida\\\\Anaconda3\\\\lib\\\\site-packages\\\\win32', 'C:\\\\Users\\\\etida\\\\Anaconda3\\\\lib\\\\site-packages\\\\win32\\\\lib', 'C:\\\\Users\\\\etida\\\\Anaconda3\\\\lib\\\\site-packages\\\\Pythonwin', 'C:\\\\Users\\\\etida\\\\Anaconda3\\\\lib\\\\site-packages\\\\IPython\\\\extensions', 'C:\\\\Users\\\\etida\\\\.ipython']\n"
     ]
    }
   ],
   "source": [
    "import sys\n",
    "print(sys.path)"
   ]
  },
  {
   "cell_type": "code",
   "execution_count": null,
   "metadata": {},
   "outputs": [],
   "source": [
    "# In order to find for a module in a path not located here we can add the path to the sys in two ways:\n",
    "#----First----#\n",
    "# import sys\n",
    "# sys.path.append('/usr/etida')"
   ]
  },
  {
   "cell_type": "code",
   "execution_count": null,
   "metadata": {},
   "outputs": [],
   "source": [
    "# Second : change the env variables#\n",
    "start-->computer-->properties-->Advanced System setting\n",
    "create user variable\n",
    "variable name : PYTHONPATH\n",
    "Path:C:\\\\user\\\\My_modules"
   ]
  },
  {
   "cell_type": "markdown",
   "metadata": {},
   "source": [
    "###### Standard Library Module"
   ]
  },
  {
   "cell_type": "code",
   "execution_count": 10,
   "metadata": {},
   "outputs": [
    {
     "name": "stdout",
     "output_type": "stream",
     "text": [
      "0.635196272766408\n",
      "\r\n",
      "1\n",
      "\r\n",
      "423\n"
     ]
    }
   ],
   "source": [
    "import random\n",
    "# Gives us a random number from [0.0,1.0]\n",
    "r1=random.random()\n",
    "print(r1)\n",
    "\n",
    "#Gives us a random choice from a list\n",
    "print(\"\\r\")\n",
    "r2=random.choice([1,2,3,4,5])\n",
    "print(r2)\n",
    "\n",
    "#Gives us a random number in this range\n",
    "print(\"\\r\")\n",
    "r2=random.randint(1,1000)\n",
    "print(r2)"
   ]
  },
  {
   "cell_type": "code",
   "execution_count": 11,
   "metadata": {},
   "outputs": [
    {
     "name": "stdout",
     "output_type": "stream",
     "text": [
      "1.5707963267948966\n"
     ]
    }
   ],
   "source": [
    "import math\n",
    "rads=math.radians(90)\n",
    "print(rads)"
   ]
  },
  {
   "cell_type": "code",
   "execution_count": 12,
   "metadata": {},
   "outputs": [
    {
     "name": "stdout",
     "output_type": "stream",
     "text": [
      "2020-08-23\n",
      "False\n"
     ]
    }
   ],
   "source": [
    "import datetime\n",
    "import calendar\n",
    "today=datetime.date.today()\n",
    "print(today)\n",
    "print(calendar.isleap(2017))"
   ]
  },
  {
   "cell_type": "code",
   "execution_count": 13,
   "metadata": {},
   "outputs": [
    {
     "data": {
      "text/plain": [
       "'C:\\\\Users\\\\etida\\\\Pytho_lib\\\\Core Python'"
      ]
     },
     "execution_count": 13,
     "metadata": {},
     "output_type": "execute_result"
    }
   ],
   "source": [
    "import os\n",
    "os.getcwd()"
   ]
  },
  {
   "cell_type": "code",
   "execution_count": 14,
   "metadata": {},
   "outputs": [
    {
     "name": "stdout",
     "output_type": "stream",
     "text": [
      "C:\\Users\\etida\\Anaconda3\\lib\\os.py\n"
     ]
    }
   ],
   "source": [
    "#Find the location of module using dunder file method \n",
    "print(os.__file__)"
   ]
  },
  {
   "cell_type": "code",
   "execution_count": null,
   "metadata": {},
   "outputs": [],
   "source": []
  }
 ],
 "metadata": {
  "kernelspec": {
   "display_name": "Python 3",
   "language": "python",
   "name": "python3"
  },
  "language_info": {
   "codemirror_mode": {
    "name": "ipython",
    "version": 3
   },
   "file_extension": ".py",
   "mimetype": "text/x-python",
   "name": "python",
   "nbconvert_exporter": "python",
   "pygments_lexer": "ipython3",
   "version": "3.7.3"
  }
 },
 "nbformat": 4,
 "nbformat_minor": 2
}
