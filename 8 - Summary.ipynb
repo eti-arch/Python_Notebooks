{
 "cells": [
  {
   "cell_type": "markdown",
   "metadata": {},
   "source": [
    "Creating Empty object:"
   ]
  },
  {
   "cell_type": "code",
   "execution_count": 1,
   "metadata": {},
   "outputs": [
    {
     "name": "stdout",
     "output_type": "stream",
     "text": [
      "[]\n",
      "[]\n"
     ]
    }
   ],
   "source": [
    "lis1=[]\n",
    "lis2=list()\n",
    "print(lis1)\n",
    "print(lis2)"
   ]
  },
  {
   "cell_type": "code",
   "execution_count": 2,
   "metadata": {},
   "outputs": [
    {
     "name": "stdout",
     "output_type": "stream",
     "text": [
      "()\n",
      "()\n"
     ]
    }
   ],
   "source": [
    "tuple1=()\n",
    "tuple2=tuple()\n",
    "print(tuple1)\n",
    "print(tuple2)"
   ]
  },
  {
   "cell_type": "code",
   "execution_count": 3,
   "metadata": {},
   "outputs": [
    {
     "name": "stdout",
     "output_type": "stream",
     "text": [
      "set()\n"
     ]
    }
   ],
   "source": [
    "set1=set()\n",
    "print(set1)"
   ]
  },
  {
   "cell_type": "code",
   "execution_count": 1,
   "metadata": {},
   "outputs": [
    {
     "name": "stdout",
     "output_type": "stream",
     "text": [
      "{}\n",
      "{}\n"
     ]
    }
   ],
   "source": [
    "dict1={}\n",
    "dict2=dict()\n",
    "print(dict1)\n",
    "print(dict2)"
   ]
  },
  {
   "cell_type": "markdown",
   "metadata": {},
   "source": [
    "Dictionary in Python is an unordered collection of data values, used to store data values like a map."
   ]
  },
  {
   "cell_type": "markdown",
   "metadata": {},
   "source": [
    "### Table of Difference between List, Set and Tuple\n",
    "\n",
    "###### LIST\t,                                                        SET,\t                                                                                                                            TUPLE\n",
    "\n",
    "Lists is Mutable, \t                   Set is Immutable,\t                                         Tuple is Immutable\n",
    "\n",
    "It is Ordered collection of items,\t   It is Unordered collection of items,\t                  It is Ordered collection of items\n",
    "\n",
    "Items in list can be replaced or changed, Items in set cannot be changed or replaced , Items in tuple cannot be changed or replaced\n",
    "\n",
    "List can have duplicates, No duplicates,Duplicates allowed"
   ]
  },
  {
   "cell_type": "code",
   "execution_count": null,
   "metadata": {},
   "outputs": [],
   "source": [
    "List Methods\n",
    "\n",
    "list1.append(element) : at the end of the list\n",
    "list1.insert(position, element)\n",
    "list1.remove(element)\n",
    "list1.pop(index): remove and pop the item at the mentiond index\n",
    "del list1[0:5] : based on the index\n",
    "\"str\".join(iterable)\n",
    "list1.sort()\n",
    "list1.reverse() or list1.sort(reverse=True)\n",
    "list1.index(element, beg, end) : Returns the index of first occurrence. Start and End index are not necessary parameters.\n",
    "list1.count(element) :- This function counts the number of occurrences of elements in list.\n",
    "in\n",
    "not in\n",
    "len() :- This function returns the length of list.\n",
    "min() :- This function returns the minimum element of list.\n",
    "max() :- This function returns the maximum element of list.\n",
    "sum() : Calculates sum of all the elements of List.\n",
    "“+” operator :- This operator is used to concatenate two lists into a single list.\n",
    "“*” operator :- This operator is used to multiply the list “n” times and return the single list.\n",
    "extend(b) :- This function is used to extend the list with the elements present in another list. This function takes another list as its argument.\n",
    "clear() :- This function is used to erase all the elements of list. After this operation, list becomes empty."
   ]
  },
  {
   "cell_type": "code",
   "execution_count": null,
   "metadata": {},
   "outputs": [],
   "source": [
    "Dictionary Methods\n",
    "METHODS\tDESCRIPTION\n",
    "copy()\tThey copy() method returns a shallow copy of the dictionary.\n",
    "clear()\tThe clear() method removes all items from the dictionary.\n",
    "pop()\tRemoves and returns an element from a dictionary having the given key.\n",
    "popitem()\tRemoves the arbitrary key-value pair from the dictionary and returns it as tuple.\n",
    "get()\tIt is a conventional method to access a value for a key.\n",
    "dictionary_name.values()\treturns a list of all the values available in a given dictionary.\n",
    "str()\tProduces a printable string representation of a dictionary.\n",
    "update()\tAdds dictionary dict2’s key-values pairs to dict\n",
    "setdefault()\tSet dict[key]=default if key is not already in dict\n",
    "keys()\tReturns list of dictionary dict’s keys\n",
    "items()\tReturns a list of dict’s (key, value) tuple pairs\n",
    "has_key()\tReturns true if key in dictionary dict, false otherwise\n",
    "fromkeys()\tCreate a new dictionary with keys from seq and values set to value.\n",
    "type()\tReturns the type of the passed variable.\n",
    "cmp()\tCompares elements of both dict.\n",
    "del dict1[key]"
   ]
  },
  {
   "cell_type": "code",
   "execution_count": null,
   "metadata": {},
   "outputs": [],
   "source": [
    "Methods for Sets\n",
    "1. add(x) Method: Adds the item x to set if it is not already present in the set.\n",
    "\n",
    "people = {\"Jay\", \"Idrish\", \"Archil\"}\n",
    "people.add(\"Daxit\") \n",
    "-> This will add Daxit in people set.\n",
    "\n",
    "2. union(s) Method: Returns a union of two set.Using the ‘|’ operator between 2 sets is the same as writing set1.union(set2)\n",
    "\n",
    "people = {\"Jay\", \"Idrish\", \"Archil\"}\n",
    "vampires = {\"Karan\", \"Arjun\"}\n",
    "population = people.union(vampires)\n",
    "OR\n",
    "population = people|vampires\n",
    "-> Set population set will have components of both people and vampire\n",
    "\n",
    "3. intersect(s) Method: Returns an intersection of two sets.The ‘&’ operator comes can also be used in this case.\n",
    "\n",
    "victims = people.intersection(vampires)\n",
    "-> Set victims will contain the common element of people and vampire\n",
    "\n",
    "4. difference(s) Method: Returns a set containing all the elements of invoking set but not of the second set. We can use ‘-‘ operator here.\n",
    "\n",
    "safe = people.difference(vampires)\n",
    "OR\n",
    "safe = people – vampires\n",
    "-> Set safe  will have all the elements that are in people but not vampire\n",
    "5. clear() Method: Empties the whole set.\n",
    "\n",
    "victims.clear()\n",
    "-> Clears victim set\n",
    "\n",
    "However there are two major pitfalls in Python sets:\n",
    "\n",
    "The set doesn’t maintain elements in any particular order.\n",
    "Only instances of immutable types can be added to a Python set.\n",
    "Operators for Sets\n",
    "Sets and frozen sets support the following operators:\n",
    "\n",
    "key in s       # containment check\n",
    "\n",
    "key not in s   # non-containment check\n",
    "\n",
    "s1 == s2       # s1 is equivalent to s2\n",
    "\n",
    "s1 != s2       # s1 is not equivalent to s2\n",
    "\n",
    "s1 <= s2    # s1is subset of s2 s1 < s2     # s1 is proper subset of s2 s1 >= s2    # s1is superset of s2\n",
    "\n",
    "s1 > s2     # s1 is proper superset of s2\n",
    "\n",
    "s1 | s2        # the union of s1 and s2\n",
    "\n",
    "s1 & s2 # the intersection of s1 and s2\n",
    "\n",
    "s1 – s2        # the set of elements in s1 but not s2\n",
    "\n",
    "s1 ˆ s2        # the set of elements in precisely one of s1 or s2"
   ]
  },
  {
   "cell_type": "code",
   "execution_count": null,
   "metadata": {},
   "outputs": [],
   "source": [
    "List\tTuple\tSet\tDictionary\n",
    "\n",
    "List is a non-homogeneous data structure which stores the elements in single row and multiple rows and columns\n",
    "Tuple is also a non-homogeneous data structure which stores single row and multiple rows and columns\n",
    "Set data structure is also non-homogeneous data structure but stores in single row\n",
    "Dictionary is also a non-homogeneous data structure which stores key value pairs\n",
    "\n",
    "List can be represented by [ ]\n",
    "Tuple can be represented by ( )\n",
    "Set can be represented by { }\n",
    "Dictionary  can be represented by { }\n",
    "\n",
    "\n",
    "List allows duplicate elements\n",
    "Tuple allows duplicate elements\n",
    "Set will not allow duplicate elements\n",
    "Dictionary will  allow duplicate elements but keys are not duplicated\n",
    "\n",
    "List can use nested among all\n",
    "Tuple can use nested among all\n",
    "Set can use nested among all\n",
    "Dictionary can use nested among all\n",
    "\n",
    "Example: [1, 2, 3, 4, 5]\n",
    "Example: (1, 2, 3, 4, 5)\n",
    "Example: {1, 2, 3, 4, 5}\n",
    "Example: {1, 2, 3, 4, 5}\n",
    "\n",
    "\n",
    "\n",
    "List can be created using list() function\n",
    "Tuple can be created using tuple() function.\n",
    "Set can be created using set() function\n",
    "Dictionary can be created using dict() function.\n",
    "\n",
    "\n",
    "\n",
    "List is mutable i.e we can make any changes in list.\n",
    "Tuple  is immutable i.e we can not make any changes in tuple\n",
    "Set is mutable i.e we can make any changes in set. But elements are not duplicated.\n",
    "Dictionary is mutable. But Keys are not duplicated.\n",
    "\n",
    "\n",
    "List is ordered\tTuple is ordered\tSet is unordered\tDictionary is ordered\n",
    "\n",
    "\n",
    "Creating an empty list\n",
    "\n",
    "l=[]\n",
    "\n",
    "Creating an empty Tuple\n",
    "\n",
    "t=()\n",
    "\n",
    "Creating a set\n",
    "\n",
    "a=set()\n",
    "\n",
    "b=set(a)\n",
    "\n",
    "Creating an empty dictionary\n",
    "\n",
    "d={}\n",
    "\n",
    "\n",
    "\n",
    "\n"
   ]
  }
 ],
 "metadata": {
  "kernelspec": {
   "display_name": "Python 3",
   "language": "python",
   "name": "python3"
  },
  "language_info": {
   "codemirror_mode": {
    "name": "ipython",
    "version": 3
   },
   "file_extension": ".py",
   "mimetype": "text/x-python",
   "name": "python",
   "nbconvert_exporter": "python",
   "pygments_lexer": "ipython3",
   "version": "3.7.3"
  }
 },
 "nbformat": 4,
 "nbformat_minor": 2
}
