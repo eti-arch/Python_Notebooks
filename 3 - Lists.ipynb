{
 "cells": [
  {
   "cell_type": "markdown",
   "metadata": {},
   "source": [
    "# Lists"
   ]
  },
  {
   "cell_type": "markdown",
   "metadata": {},
   "source": [
    "###### There's a data type exactly for this idea for storing an ordered collection of items, and it's called a list."
   ]
  },
  {
   "cell_type": "markdown",
   "metadata": {},
   "source": [
    "###### “in” operator :- This operator is used to check if an element is present in the list or not. Returns true if element is present in list else returns false.\n",
    "\n",
    " ###### “not in” operator :- This operator is used to check if an element is not present in the list or not. Returns true if element is not present in list else returns false."
   ]
  },
  {
   "cell_type": "code",
   "execution_count": 1,
   "metadata": {},
   "outputs": [],
   "source": [
    "your_list=[\"a\",\"b\",\"c\"]"
   ]
  },
  {
   "cell_type": "code",
   "execution_count": 2,
   "metadata": {},
   "outputs": [
    {
     "data": {
      "text/plain": [
       "list"
      ]
     },
     "execution_count": 2,
     "metadata": {},
     "output_type": "execute_result"
    }
   ],
   "source": [
    "type(your_list)"
   ]
  },
  {
   "cell_type": "code",
   "execution_count": 3,
   "metadata": {},
   "outputs": [
    {
     "name": "stdout",
     "output_type": "stream",
     "text": [
      "['a', 'b', 'c']\n"
     ]
    }
   ],
   "source": [
    "print(your_list)"
   ]
  },
  {
   "cell_type": "code",
   "execution_count": 4,
   "metadata": {},
   "outputs": [
    {
     "data": {
      "text/plain": [
       "['a', 'b', 'c']"
      ]
     },
     "execution_count": 4,
     "metadata": {},
     "output_type": "execute_result"
    }
   ],
   "source": [
    "your_list"
   ]
  },
  {
   "cell_type": "code",
   "execution_count": 5,
   "metadata": {},
   "outputs": [
    {
     "data": {
      "text/plain": [
       "'a'"
      ]
     },
     "execution_count": 5,
     "metadata": {},
     "output_type": "execute_result"
    }
   ],
   "source": [
    "your_list[0]"
   ]
  },
  {
   "cell_type": "code",
   "execution_count": 6,
   "metadata": {},
   "outputs": [
    {
     "data": {
      "text/plain": [
       "'a'"
      ]
     },
     "execution_count": 6,
     "metadata": {},
     "output_type": "execute_result"
    }
   ],
   "source": [
    "your_list[-0]"
   ]
  },
  {
   "cell_type": "code",
   "execution_count": 7,
   "metadata": {},
   "outputs": [
    {
     "data": {
      "text/plain": [
       "'b'"
      ]
     },
     "execution_count": 7,
     "metadata": {},
     "output_type": "execute_result"
    }
   ],
   "source": [
    "your_list[1]"
   ]
  },
  {
   "cell_type": "code",
   "execution_count": 8,
   "metadata": {},
   "outputs": [
    {
     "data": {
      "text/plain": [
       "'c'"
      ]
     },
     "execution_count": 8,
     "metadata": {},
     "output_type": "execute_result"
    }
   ],
   "source": [
    "your_list[2]"
   ]
  },
  {
   "cell_type": "code",
   "execution_count": 9,
   "metadata": {},
   "outputs": [
    {
     "data": {
      "text/plain": [
       "['a', 'b', 'c']"
      ]
     },
     "execution_count": 9,
     "metadata": {},
     "output_type": "execute_result"
    }
   ],
   "source": [
    "your_list[:]"
   ]
  },
  {
   "cell_type": "code",
   "execution_count": 10,
   "metadata": {},
   "outputs": [
    {
     "data": {
      "text/plain": [
       "True"
      ]
     },
     "execution_count": 10,
     "metadata": {},
     "output_type": "execute_result"
    }
   ],
   "source": [
    "my_list=your_list#assigning the reference\n",
    "my_list is your_list"
   ]
  },
  {
   "cell_type": "code",
   "execution_count": 11,
   "metadata": {},
   "outputs": [
    {
     "data": {
      "text/plain": [
       "False"
      ]
     },
     "execution_count": 11,
     "metadata": {},
     "output_type": "execute_result"
    }
   ],
   "source": [
    "his_list=your_list[:]#assigning the values\n",
    "his_list is your_list"
   ]
  },
  {
   "cell_type": "code",
   "execution_count": 12,
   "metadata": {},
   "outputs": [
    {
     "data": {
      "text/plain": [
       "True"
      ]
     },
     "execution_count": 12,
     "metadata": {},
     "output_type": "execute_result"
    }
   ],
   "source": [
    "his_list==your_list"
   ]
  },
  {
   "cell_type": "code",
   "execution_count": 13,
   "metadata": {},
   "outputs": [
    {
     "data": {
      "text/plain": [
       "False"
      ]
     },
     "execution_count": 13,
     "metadata": {},
     "output_type": "execute_result"
    }
   ],
   "source": [
    "#Alternative way of copying values\n",
    "\n",
    "her_list=your_list.copy()\n",
    "her_list is your_list\n"
   ]
  },
  {
   "cell_type": "code",
   "execution_count": 14,
   "metadata": {},
   "outputs": [
    {
     "data": {
      "text/plain": [
       "True"
      ]
     },
     "execution_count": 14,
     "metadata": {},
     "output_type": "execute_result"
    }
   ],
   "source": [
    "her_list==your_list"
   ]
  },
  {
   "cell_type": "code",
   "execution_count": 15,
   "metadata": {},
   "outputs": [
    {
     "data": {
      "text/plain": [
       "True"
      ]
     },
     "execution_count": 15,
     "metadata": {},
     "output_type": "execute_result"
    }
   ],
   "source": [
    "her_list[0] is your_list[0]"
   ]
  },
  {
   "cell_type": "code",
   "execution_count": 16,
   "metadata": {},
   "outputs": [
    {
     "ename": "IndexError",
     "evalue": "list index out of range",
     "output_type": "error",
     "traceback": [
      "\u001b[1;31m---------------------------------------------------------------------------\u001b[0m",
      "\u001b[1;31mIndexError\u001b[0m                                Traceback (most recent call last)",
      "\u001b[1;32m<ipython-input-16-84bd1af90b09>\u001b[0m in \u001b[0;36m<module>\u001b[1;34m\u001b[0m\n\u001b[1;32m----> 1\u001b[1;33m \u001b[0myour_list\u001b[0m\u001b[1;33m[\u001b[0m\u001b[1;36m3\u001b[0m\u001b[1;33m]\u001b[0m\u001b[1;33m\u001b[0m\u001b[1;33m\u001b[0m\u001b[0m\n\u001b[0m",
      "\u001b[1;31mIndexError\u001b[0m: list index out of range"
     ]
    }
   ],
   "source": [
    "your_list[3]"
   ]
  },
  {
   "cell_type": "code",
   "execution_count": null,
   "metadata": {},
   "outputs": [],
   "source": [
    "your_list[3]='d'"
   ]
  },
  {
   "cell_type": "code",
   "execution_count": null,
   "metadata": {},
   "outputs": [],
   "source": [
    "your_list"
   ]
  },
  {
   "cell_type": "code",
   "execution_count": null,
   "metadata": {},
   "outputs": [],
   "source": [
    "\"z\" not in your_list"
   ]
  },
  {
   "cell_type": "code",
   "execution_count": null,
   "metadata": {},
   "outputs": [],
   "source": [
    "\"z\" in your_list"
   ]
  },
  {
   "cell_type": "code",
   "execution_count": null,
   "metadata": {},
   "outputs": [],
   "source": [
    "\"a\" in your_list"
   ]
  },
  {
   "cell_type": "markdown",
   "metadata": {},
   "source": [
    "###### Explain concept of refrence"
   ]
  },
  {
   "cell_type": "code",
   "execution_count": 18,
   "metadata": {},
   "outputs": [
    {
     "name": "stdout",
     "output_type": "stream",
     "text": [
      "[[1, 2], [3, 4]]\n",
      "[[1, 2], [3, 4]]\n"
     ]
    }
   ],
   "source": [
    "a=[[1,2],[3,4]]\n",
    "b=a[:]\n",
    "print(a)\n",
    "print(b)"
   ]
  },
  {
   "cell_type": "code",
   "execution_count": 19,
   "metadata": {},
   "outputs": [
    {
     "data": {
      "text/plain": [
       "True"
      ]
     },
     "execution_count": 19,
     "metadata": {},
     "output_type": "execute_result"
    }
   ],
   "source": [
    "a[0] is b[0]"
   ]
  },
  {
   "cell_type": "code",
   "execution_count": 20,
   "metadata": {},
   "outputs": [
    {
     "data": {
      "text/plain": [
       "False"
      ]
     },
     "execution_count": 20,
     "metadata": {},
     "output_type": "execute_result"
    }
   ],
   "source": [
    "a[0]=[8,9]\n",
    "a[0] is b[0]"
   ]
  },
  {
   "cell_type": "code",
   "execution_count": 21,
   "metadata": {},
   "outputs": [
    {
     "data": {
      "text/plain": [
       "True"
      ]
     },
     "execution_count": 21,
     "metadata": {},
     "output_type": "execute_result"
    }
   ],
   "source": [
    "a[1] is b[1]"
   ]
  },
  {
   "cell_type": "code",
   "execution_count": 22,
   "metadata": {},
   "outputs": [
    {
     "data": {
      "text/plain": [
       "[3, 4, 5]"
      ]
     },
     "execution_count": 22,
     "metadata": {},
     "output_type": "execute_result"
    }
   ],
   "source": [
    "a[1].append(5)\n",
    "a[1]"
   ]
  },
  {
   "cell_type": "code",
   "execution_count": 23,
   "metadata": {},
   "outputs": [
    {
     "data": {
      "text/plain": [
       "[3, 4, 5]"
      ]
     },
     "execution_count": 23,
     "metadata": {},
     "output_type": "execute_result"
    }
   ],
   "source": [
    "b[1]"
   ]
  },
  {
   "cell_type": "code",
   "execution_count": 24,
   "metadata": {},
   "outputs": [
    {
     "data": {
      "text/plain": [
       "[[-1, 1]]"
      ]
     },
     "execution_count": 24,
     "metadata": {},
     "output_type": "execute_result"
    }
   ],
   "source": [
    "c=[[-1,1]]\n",
    "c"
   ]
  },
  {
   "cell_type": "code",
   "execution_count": 27,
   "metadata": {},
   "outputs": [],
   "source": [
    "c=c*5"
   ]
  },
  {
   "cell_type": "code",
   "execution_count": null,
   "metadata": {},
   "outputs": [],
   "source": [
    "c[2].append(2)\n",
    "c"
   ]
  },
  {
   "cell_type": "markdown",
   "metadata": {},
   "source": [
    "###### split()"
   ]
  },
  {
   "cell_type": "code",
   "execution_count": null,
   "metadata": {},
   "outputs": [],
   "source": [
    "c=\"we are a good freind\".split()\n",
    "c"
   ]
  },
  {
   "cell_type": "markdown",
   "metadata": {},
   "source": [
    "###### len() :- This function returns the length of list. \n",
    "\n",
    " ###### min() :- This function returns the minimum element of list.\n",
    "\n",
    " ###### max() :- This function returns the maximum element of list.\n",
    " \n",
    " ###### sum() : Calculates sum of all the elements of List."
   ]
  },
  {
   "cell_type": "code",
   "execution_count": 29,
   "metadata": {},
   "outputs": [
    {
     "data": {
      "text/plain": [
       "['a', 'b', 'c']"
      ]
     },
     "execution_count": 29,
     "metadata": {},
     "output_type": "execute_result"
    }
   ],
   "source": [
    "your_list"
   ]
  },
  {
   "cell_type": "code",
   "execution_count": 30,
   "metadata": {},
   "outputs": [
    {
     "data": {
      "text/plain": [
       "3"
      ]
     },
     "execution_count": 30,
     "metadata": {},
     "output_type": "execute_result"
    }
   ],
   "source": [
    "len(your_list)"
   ]
  },
  {
   "cell_type": "code",
   "execution_count": 31,
   "metadata": {},
   "outputs": [
    {
     "data": {
      "text/plain": [
       "'c'"
      ]
     },
     "execution_count": 31,
     "metadata": {},
     "output_type": "execute_result"
    }
   ],
   "source": [
    "max(your_list)"
   ]
  },
  {
   "cell_type": "code",
   "execution_count": 32,
   "metadata": {},
   "outputs": [
    {
     "data": {
      "text/plain": [
       "'a'"
      ]
     },
     "execution_count": 32,
     "metadata": {},
     "output_type": "execute_result"
    }
   ],
   "source": [
    "min(your_list)"
   ]
  },
  {
   "cell_type": "code",
   "execution_count": 33,
   "metadata": {},
   "outputs": [
    {
     "name": "stdout",
     "output_type": "stream",
     "text": [
      "15\n"
     ]
    }
   ],
   "source": [
    "List = [1, 2, 3, 4, 5] \n",
    "print(sum(List))"
   ]
  },
  {
   "cell_type": "markdown",
   "metadata": {},
   "source": [
    "###### “+” operator :- This operator is used to concatenate two lists into a single list.\n",
    "\n",
    "###### “*” operator :- This operator is used to multiply the list “n” times and return the single list."
   ]
  },
  {
   "cell_type": "code",
   "execution_count": 37,
   "metadata": {},
   "outputs": [],
   "source": [
    "# Python code to demonstrate the working of \n",
    "# \"+\" and \"*\" \n",
    "# initializing list 1 \n",
    "lis = [1, 2, 3]"
   ]
  },
  {
   "cell_type": "code",
   "execution_count": 35,
   "metadata": {},
   "outputs": [],
   "source": [
    "# initializing list 2 \n",
    "lis1 = [4, 5, 6]"
   ]
  },
  {
   "cell_type": "code",
   "execution_count": 36,
   "metadata": {},
   "outputs": [],
   "source": [
    "# using \"+\" to concatenate lists \n",
    "lis2= lis + lis1 "
   ]
  },
  {
   "cell_type": "code",
   "execution_count": null,
   "metadata": {},
   "outputs": [],
   "source": [
    "lis2"
   ]
  },
  {
   "cell_type": "code",
   "execution_count": 38,
   "metadata": {},
   "outputs": [
    {
     "name": "stdout",
     "output_type": "stream",
     "text": [
      "list after concatenation is : 1 2 3 4 5 6 "
     ]
    }
   ],
   "source": [
    "# priting concatenated lists \n",
    "print (\"list after concatenation is : \", end=\"\") \n",
    "for i in range(0,len(lis2)): \n",
    "    print (lis2[i], end=\" \")"
   ]
  },
  {
   "cell_type": "code",
   "execution_count": null,
   "metadata": {},
   "outputs": [],
   "source": [
    "#using '*' to combine lists \n",
    "lis3 = lis * 3"
   ]
  },
  {
   "cell_type": "code",
   "execution_count": null,
   "metadata": {},
   "outputs": [],
   "source": [
    "lis3"
   ]
  },
  {
   "cell_type": "code",
   "execution_count": null,
   "metadata": {},
   "outputs": [],
   "source": [
    "# priting combined lists \n",
    "print (\"list after combining is : \", end=\"\") \n",
    "for i in range(0,len(lis3)): \n",
    "    print (lis3[i], end=\" \")"
   ]
  },
  {
   "cell_type": "markdown",
   "metadata": {},
   "source": [
    "###### index(ele, beg, end) :- This function returns the index of first occurrence of element after beg and before end.\n",
    "###### index(): Returns the index of first occurrence. Start and End index are not necessary parameters.\n",
    "###### Syntax:\n",
    "###### List.index(element[,start[,end]])\n",
    "\n",
    "###### count() :- This function counts the number of occurrences of elements in list."
   ]
  },
  {
   "cell_type": "code",
   "execution_count": 43,
   "metadata": {},
   "outputs": [
    {
     "name": "stdout",
     "output_type": "stream",
     "text": [
      "1\n"
     ]
    }
   ],
   "source": [
    "List = [1, 2, 3, 1, 2, 1, 2, 3, 2, 1] \n",
    "print(List.index(2))"
   ]
  },
  {
   "cell_type": "code",
   "execution_count": 40,
   "metadata": {},
   "outputs": [
    {
     "name": "stdout",
     "output_type": "stream",
     "text": [
      "4\n"
     ]
    }
   ],
   "source": [
    "List = [1, 2, 3, 1, 2, 1, 2, 3, 2, 1] \n",
    "print(List.index(2,2)) "
   ]
  },
  {
   "cell_type": "code",
   "execution_count": 44,
   "metadata": {},
   "outputs": [
    {
     "ename": "ValueError",
     "evalue": "2 is not in list",
     "output_type": "error",
     "traceback": [
      "\u001b[1;31m---------------------------------------------------------------------------\u001b[0m",
      "\u001b[1;31mValueError\u001b[0m                                Traceback (most recent call last)",
      "\u001b[1;32m<ipython-input-44-bddcab799810>\u001b[0m in \u001b[0;36m<module>\u001b[1;34m\u001b[0m\n\u001b[0;32m      2\u001b[0m \u001b[1;33m\u001b[0m\u001b[0m\n\u001b[0;32m      3\u001b[0m \u001b[1;31m# will check from index 2 to 3.\u001b[0m\u001b[1;33m\u001b[0m\u001b[1;33m\u001b[0m\u001b[1;33m\u001b[0m\u001b[0m\n\u001b[1;32m----> 4\u001b[1;33m \u001b[0mprint\u001b[0m\u001b[1;33m(\u001b[0m\u001b[0mList\u001b[0m\u001b[1;33m.\u001b[0m\u001b[0mindex\u001b[0m\u001b[1;33m(\u001b[0m\u001b[1;36m2\u001b[0m\u001b[1;33m,\u001b[0m\u001b[1;36m2\u001b[0m\u001b[1;33m,\u001b[0m\u001b[1;36m4\u001b[0m\u001b[1;33m)\u001b[0m\u001b[1;33m)\u001b[0m\u001b[1;33m\u001b[0m\u001b[1;33m\u001b[0m\u001b[0m\n\u001b[0m",
      "\u001b[1;31mValueError\u001b[0m: 2 is not in list"
     ]
    }
   ],
   "source": [
    "List = [1, 2, 3, 1, 2, 1, 2, 3, 2, 1] \n",
    "\n",
    "# will check from index 2 to 3. \n",
    "print(List.index(2,2,4))"
   ]
  },
  {
   "cell_type": "code",
   "execution_count": null,
   "metadata": {},
   "outputs": [],
   "source": [
    "# Python code to demonstrate the working of \n",
    "# index() and count() \n",
    "# initializing list 1 \n",
    "lis = [2, 1, 3, 5, 4, 3]"
   ]
  },
  {
   "cell_type": "code",
   "execution_count": null,
   "metadata": {},
   "outputs": [],
   "source": [
    "# using index() to print first occurrence of 3 \n",
    "# prints 5 \n",
    "print (\"The first occurrence of 3 after 3rd position is : \", end=\"\") \n",
    "print (lis.index(3, 3, 6))"
   ]
  },
  {
   "cell_type": "code",
   "execution_count": null,
   "metadata": {},
   "outputs": [],
   "source": [
    "# using count() to count number of occurrence of 3 \n",
    "print (\"The number of occurrences of 3 is : \", end=\"\") \n",
    "print (lis.count(3))"
   ]
  },
  {
   "cell_type": "markdown",
   "metadata": {},
   "source": [
    "###### del[a : b] :- This method deletes all the elements in range starting from index ‘a’ till ‘b’ mentioned in arguments while b is not inclusive.index starts with 0.\n",
    "\n",
    "###### pop() :- This method deletes the element at the position mentioned in its arguments.Index is not a necessary parameter, if not mentioned takes the last index.It returns the value, hence we can store the value popped by assigning it to a variable."
   ]
  },
  {
   "cell_type": "code",
   "execution_count": null,
   "metadata": {},
   "outputs": [],
   "source": [
    "# Python code to demonstrate the working of \n",
    "# del and pop() \n",
    "# initializing list \n",
    "lis = [2, 1, 3, 5, 4, 3, 8]\n",
    "\n",
    "# using del to delete elements from pos. 2 to 5 \n",
    "# deletes 3,5,4 \n",
    "del lis[2 : 5] \n",
    "\n",
    "# displaying list after deleting \n",
    "print (\"List elements after deleting are : \",end=\"\") \n",
    "for i in range(0, len(lis)): \n",
    "    print(lis[i], end=\" \")\n",
    "    \n",
    "print(\"\\r\")\n",
    "    \n",
    "# using pop() to delete element at pos 2 \n",
    "# deletes 3 \n",
    "lis.pop(2)\n",
    "\n",
    "# displaying list after popping \n",
    "print (\"List elements after popping are : \", end=\"\") \n",
    "for i in range(0, len(lis)): \n",
    "    print(lis[i], end=\" \")"
   ]
  },
  {
   "cell_type": "code",
   "execution_count": null,
   "metadata": {},
   "outputs": [],
   "source": [
    "List = [2.3, 4.445, 3, 5.33, 1.054, 2.5] \n",
    "print(List.pop())"
   ]
  },
  {
   "cell_type": "markdown",
   "metadata": {},
   "source": [
    "###### insert(position,element) :- This function inserts an element at the position mentioned in its arguments. It takes 2 arguments, position and element to be added at respective position.\n",
    "\n",
    "###### remove() :- .remove() is an inbuilt function in Python programming language that removes a given object from the list. It does not return any value.\n",
    "\n",
    "###### Syntax:\n",
    "\n",
    "list_name.remove(obj) \n",
    "Parameters:\n",
    "\n",
    "obj - object to be removed from the list \n",
    "Returns:\n",
    "\n",
    "The method does not return any value \n",
    "but removes the given object from the list.\n",
    "Note:It removes the first occurrence of the object from the list."
   ]
  },
  {
   "cell_type": "markdown",
   "metadata": {},
   "source": [
    "###### pop() removes element based on index while remove() element based on its value."
   ]
  },
  {
   "cell_type": "code",
   "execution_count": null,
   "metadata": {},
   "outputs": [],
   "source": [
    "# Python code to demonstrate the working of \n",
    "# insert() and remove() \n",
    "\n",
    "# initializing list \n",
    "lis = [2, 1, 3, 5, 3, 8] \n",
    "\n",
    "# using insert() to insert 4 at 3rd pos \n",
    "lis.insert(3, 4) \n",
    "\n",
    "# displaying list after inserting \n",
    "print(\"List elements after inserting 4 are : \", end=\"\") \n",
    "for i in range(0, len(lis)): \n",
    "    print(lis[i], end=\" \") \n",
    "\n",
    "print(\"\\r\") \n",
    "\n",
    "# using remove() to remove first occurrence of 3 \n",
    "# removes 3 at pos 2 \n",
    "lis.remove(3) \n",
    "\n",
    "# displaying list after removing \n",
    "print (\"List elements after removing are : \", end=\"\") \n",
    "for i in range(0, len(lis)): \n",
    "    print(lis[i], end=\" \") \n"
   ]
  },
  {
   "cell_type": "markdown",
   "metadata": {},
   "source": [
    "###### Adding and Appending\n",
    "\n",
    "###### append(): Used for appending and adding elements to List.It is used to add elements to the last position of List.\n",
    "\n",
    "###### Syntax: \n",
    "###### list.append (element)"
   ]
  },
  {
   "cell_type": "code",
   "execution_count": null,
   "metadata": {},
   "outputs": [],
   "source": [
    "# Adds List Element as value of List. \n",
    "List = ['Mathematics', 'chemistry', 1997, 2000] \n",
    "List.append(20544) \n",
    "print(List)"
   ]
  },
  {
   "cell_type": "raw",
   "metadata": {},
   "source": [
    "insert(): Inserts an elements at specified position.\n",
    "Syntax:\n",
    "list.insert(<position>, element)\n",
    "Note: Position mentioned should be within the range of List, as in this case between 0 and 4, elsewise would throw IndexError"
   ]
  },
  {
   "cell_type": "code",
   "execution_count": null,
   "metadata": {},
   "outputs": [],
   "source": [
    "List = ['Mathematics', 'chemistry', 1997, 2000] \n",
    "# Insert at index 2 value 10087 \n",
    "List.insert(2,10087)\n",
    "print(List)"
   ]
  },
  {
   "cell_type": "code",
   "execution_count": null,
   "metadata": {},
   "outputs": [],
   "source": [
    "your_list.append(\"e\")"
   ]
  },
  {
   "cell_type": "code",
   "execution_count": null,
   "metadata": {},
   "outputs": [],
   "source": [
    "your_list"
   ]
  },
  {
   "cell_type": "code",
   "execution_count": null,
   "metadata": {},
   "outputs": [],
   "source": [
    "len(your_list)"
   ]
  },
  {
   "cell_type": "code",
   "execution_count": null,
   "metadata": {},
   "outputs": [],
   "source": [
    "your_list[3]"
   ]
  },
  {
   "cell_type": "code",
   "execution_count": null,
   "metadata": {},
   "outputs": [],
   "source": [
    "her_list=[]"
   ]
  },
  {
   "cell_type": "code",
   "execution_count": null,
   "metadata": {},
   "outputs": [],
   "source": [
    "len(her_list)"
   ]
  },
  {
   "cell_type": "code",
   "execution_count": null,
   "metadata": {},
   "outputs": [],
   "source": [
    "names=[\"Alice\",\"Amy\"]\n",
    "names"
   ]
  },
  {
   "cell_type": "code",
   "execution_count": null,
   "metadata": {},
   "outputs": [],
   "source": [
    "names.append(\"Adam\")\n",
    "names"
   ]
  },
  {
   "cell_type": "code",
   "execution_count": null,
   "metadata": {},
   "outputs": [],
   "source": [
    "names[0]=\"Jimmy\"\n",
    "names"
   ]
  },
  {
   "cell_type": "code",
   "execution_count": null,
   "metadata": {},
   "outputs": [],
   "source": [
    "len(names)"
   ]
  },
  {
   "cell_type": "code",
   "execution_count": null,
   "metadata": {},
   "outputs": [],
   "source": [
    "names.index(\"Adam\")"
   ]
  },
  {
   "cell_type": "code",
   "execution_count": null,
   "metadata": {},
   "outputs": [],
   "source": [
    "len(names)-1"
   ]
  },
  {
   "cell_type": "code",
   "execution_count": null,
   "metadata": {},
   "outputs": [],
   "source": [
    "names[len(names)-1]"
   ]
  },
  {
   "cell_type": "code",
   "execution_count": null,
   "metadata": {},
   "outputs": [],
   "source": [
    "names[-1]"
   ]
  },
  {
   "cell_type": "code",
   "execution_count": null,
   "metadata": {},
   "outputs": [],
   "source": [
    "names[-2]"
   ]
  },
  {
   "cell_type": "code",
   "execution_count": null,
   "metadata": {},
   "outputs": [],
   "source": [
    "my_name=\"Jessica\""
   ]
  },
  {
   "cell_type": "code",
   "execution_count": null,
   "metadata": {},
   "outputs": [],
   "source": [
    "my_name[0]"
   ]
  },
  {
   "cell_type": "markdown",
   "metadata": {},
   "source": [
    "###### sort() :- This function sorts the list in increasing order.\n",
    "\n",
    "###### reverse() :- This function reverses the elements of list.\n",
    "\n",
    "###### Note : sort , reverse alter the list in place so we dont have to reset the variable .But sorted , reversed  dont alter the original list.sorted function doesnt sort the list in place but return the sorted version of the list.To get a sorted list we have to make a new varibale and set it to the return value of the sorted function."
   ]
  },
  {
   "cell_type": "code",
   "execution_count": null,
   "metadata": {},
   "outputs": [],
   "source": [
    "# Python code to demonstrate the working of \n",
    "# sort() and reverse() \n",
    "\n",
    "# initializing list \n",
    "lis = [2, 1, 3, 5, 3, 8] \n",
    "\n",
    "# using sort() to sort the list \n",
    "lis.sort()\n",
    "\n",
    "\n",
    "# displaying list after sorting \n",
    "print (\"List elements after sorting are : \", end=\"\") \n",
    "for i in range(0, len(lis)): \n",
    "    print(lis[i], end=\" \") \n",
    "    \n",
    "print(\"\\r\") \n",
    "\n",
    "# using sort() to reverse the list \n",
    "lis.sort(reverse=True)\n",
    "\n",
    "# displaying list after sorting in reverse \n",
    "print (\"List elements after sorting in reverse are : \", end=\"\") \n",
    "for i in range(0, len(lis)): \n",
    "    print(lis[i], end=\" \")\n",
    "    \n",
    "print(\"\\r\") \n",
    "\n",
    "# using reverse() to reverse the list \n",
    "lis.reverse() \n",
    "\n",
    "# displaying list after reversing \n",
    "print (\"List elements after reversing are : \", end=\"\") \n",
    "for i in range(0, len(lis)): \n",
    "    print(lis[i], end=\" \") \n"
   ]
  },
  {
   "cell_type": "code",
   "execution_count": null,
   "metadata": {},
   "outputs": [],
   "source": [
    "d=[13,14,11,9,8]\n",
    "e=sorted(d)\n",
    "e"
   ]
  },
  {
   "cell_type": "code",
   "execution_count": null,
   "metadata": {},
   "outputs": [],
   "source": [
    "f=reversed(e)\n",
    "f"
   ]
  },
  {
   "cell_type": "code",
   "execution_count": null,
   "metadata": {},
   "outputs": [],
   "source": [
    "g=list(reversed(e))\n",
    "g"
   ]
  },
  {
   "cell_type": "code",
   "execution_count": 46,
   "metadata": {},
   "outputs": [
    {
     "data": {
      "text/plain": [
       "['we', 'are', 'a', 'good', 'freind']"
      ]
     },
     "execution_count": 46,
     "metadata": {},
     "output_type": "execute_result"
    }
   ],
   "source": [
    "c=\"we are a good freind\".split()\n",
    "c"
   ]
  },
  {
   "cell_type": "code",
   "execution_count": 47,
   "metadata": {},
   "outputs": [
    {
     "data": {
      "text/plain": [
       "['a', 'we', 'are', 'good', 'freind']"
      ]
     },
     "execution_count": 47,
     "metadata": {},
     "output_type": "execute_result"
    }
   ],
   "source": [
    "c.sort(key=len)\n",
    "c"
   ]
  },
  {
   "cell_type": "markdown",
   "metadata": {},
   "source": [
    "### join() function in Python\n",
    "\n",
    "\n",
    "The join() method is a string method and returns a string in which the elements of sequence have been joined by str separator.\n",
    "\n",
    "Syntax:\n",
    "\n",
    "\"str\".join(iterable) \n",
    "\n",
    "str: separator\n",
    "             \n",
    "Parameters: The join() method takes iterable – objects capable of returning its members one at a time. Some examples are List, Tuple, String, Dictionary and Set\n",
    "\n",
    "Return Value: The join() method returns a string concatenated with the elements of iterable.\n",
    "\n",
    "Type Error: If the iterable contains any non-string values, it raises a TypeError exception."
   ]
  },
  {
   "cell_type": "code",
   "execution_count": 48,
   "metadata": {},
   "outputs": [
    {
     "name": "stdout",
     "output_type": "stream",
     "text": [
      "to know that god loves me\n",
      "\r\n",
      "to;know;that;god;loves;me\n",
      "\r\n",
      "to-know-that-god-loves-me\n"
     ]
    }
   ],
   "source": [
    "lis1=['to','know','that','god','loves','me']\n",
    "#str1=' '.join(lis1)\n",
    "#str1\n",
    "print(' '.join(lis1))\n",
    "print(\"\\r\") \n",
    "print(';'.join(lis1))\n",
    "print(\"\\r\") \n",
    "print('-'.join(lis1))"
   ]
  },
  {
   "cell_type": "code",
   "execution_count": 49,
   "metadata": {},
   "outputs": [
    {
     "name": "stdout",
     "output_type": "stream",
     "text": [
      "to-know-that-god-loves-me\n",
      "['to', 'know', 'that', 'god', 'loves', 'me']\n"
     ]
    }
   ],
   "source": [
    "str1='-'.join(lis1)\n",
    "print(str1)\n",
    "lis2=str1.split('-')\n",
    "print(lis2)"
   ]
  },
  {
   "cell_type": "markdown",
   "metadata": {},
   "source": [
    "###### extend(b) :- This function is used to extend the list with the elements present in another list. This function takes another list as its argument.\n",
    "\n",
    "###### clear() :- This function is used to erase all the elements of list. After this operation, list becomes empty."
   ]
  },
  {
   "cell_type": "markdown",
   "metadata": {},
   "source": [
    "###### Note : extend , clear alter the list in place so we dont have to reset the variable ."
   ]
  },
  {
   "cell_type": "code",
   "execution_count": null,
   "metadata": {},
   "outputs": [],
   "source": [
    "# Python code to demonstrate the working of \n",
    "# extend() and clear() \n",
    "\n",
    "# initializing list 1 \n",
    "lis1 = [2, 1, 3, 5] \n",
    "\n",
    "# initializing list 1 \n",
    "lis2 = [6, 4, 3] \n",
    "\n",
    "# using extend() to add elements of lis2 in lis1 \n",
    "lis1.extend(lis2) \n",
    "\n",
    "# displaying list after sorting \n",
    "print (\"List elements after extending are : \", end=\"\") \n",
    "for i in range(0, len(lis1)): \n",
    "    print(lis1[i], end=\" \") \n",
    "\n",
    "print (\"\\r\") \n",
    "\n",
    "# using clear() to delete all lis1 contents \n",
    "lis1.clear() \n",
    "\n",
    "# displaying list after clearing \n",
    "print (\"List elements after clearing are : \", end=\"\") \n",
    "for i in range(0, len(lis1)): \n",
    "    print(lis1[i], end=\" \") \n"
   ]
  },
  {
   "cell_type": "markdown",
   "metadata": {},
   "source": [
    "###### Python List Comprehension and Slicing"
   ]
  },
  {
   "cell_type": "raw",
   "metadata": {},
   "source": [
    "List comprehension is an elegant way to define and create list in python. We can create lists just like mathematical statements and in one line only. The syntax of list comprehension is easier to grasp.\n",
    "\n",
    "A list comprehension generally consist of these parts :\n",
    "   Output expression, \n",
    "   input sequence, \n",
    "   a variable representing member of input sequence and\n",
    "   an optional predicate part. \n",
    "\n",
    "For example :\n",
    "\n",
    "lst  =  [x ** 2  for x in range (1, 11)   if  x % 2 == 1] \n",
    "\n",
    "here, x ** 2 is output expression, \n",
    "      range (1, 11)  is input sequence, \n",
    "      x is variable and   \n",
    "      if x % 2 == 1 is predicate part."
   ]
  },
  {
   "cell_type": "code",
   "execution_count": null,
   "metadata": {},
   "outputs": [],
   "source": [
    "# Python program to demonstrate list comprehension in Python \n",
    "\n",
    "# below list contains square of all odd numbers from \n",
    "# range 1 to 10 \n",
    "odd_square = [x ** 2 for x in range(1, 11) if x % 2 == 1] \n",
    "print(odd_square) \n",
    "\n",
    "# for understanding, above generation is same as, \n",
    "odd_square = [] \n",
    "for x in range(1, 11): \n",
    "    if x % 2 == 1: \n",
    "        odd_square.append(x**2)\n",
    "print(odd_square) \n",
    "\n",
    "# below list contains power of 2 from 1 to 8 \n",
    "power_of_2 = [2 ** x for x in range(1, 9)] \n",
    "print(power_of_2)\n",
    "\n",
    "# below list contains prime and non-prime in range 1 to 50 \n",
    "noprimes = [j for i in range(2, 8) for j in range(i*2, 50, i)] \n",
    "primes = [x for x in range(2, 50) if x not in noprimes] \n",
    "print(primes) \n",
    "\n",
    "# list for lowering the characters \n",
    "print([x.lower() for x in [\"A\",\"B\",\"C\"]]) \n",
    "\n",
    "# list which extracts number \n",
    "string = \"my phone number is : 11122 !!\"\n",
    "\n",
    "print(\"\\nExtracted digits\") \n",
    "numbers = [x for x in string if x.isdigit()] \n",
    "print(numbers)\n",
    "\n",
    "# A list of list for multiplication table \n",
    "a = 5\n",
    "table = [[a, b, a * b] for b in range(1, 11)] \n",
    "\n",
    "print(\"\\nMultiplication Table\") \n",
    "for i in table: \n",
    "    print(i)\n"
   ]
  },
  {
   "cell_type": "raw",
   "metadata": {},
   "source": [
    "After getting the list, we can get a part of it using python’s slicing operator which has following syntax :\n",
    "\n",
    "\n",
    "    [start : stop : steps]  \n",
    "\n",
    "which means that slicing will start from index start\n",
    " will go up to stop in step of steps. \n",
    " Default value of start is 0, stop is last index of list\n",
    " and for step it is 1 \n",
    " \n",
    " So [:stop] will slice list from starting till stop index and [start:] will slice list from start index till end Negative value of steps shows right to left traversal instead of left to right traversal that is why [::-1] prints list in reverse order."
   ]
  },
  {
   "cell_type": "code",
   "execution_count": null,
   "metadata": {},
   "outputs": [],
   "source": [
    "# Let us first create a list to demonstrate slicing \n",
    "# lst contains all number from 1 to 10 \n",
    "lst =list(range(1, 11)) \n",
    "print(lst)\n",
    "\n",
    "# below list has numbers from 2 to 5 \n",
    "lst1_5 = lst[1 : 5] \n",
    "print(lst1_5) \n",
    "\n",
    "# below list has numbers from 6 to 8 \n",
    "lst5_8 = lst[5 : 8] \n",
    "print(lst5_8) \n",
    "\n",
    "# below list has numbers from 2 to 10 \n",
    "lst1_ = lst[1 : ] \n",
    "print(lst1_) \n",
    "\n",
    "# below list has numbers from 1 to 5 \n",
    "lst_5 = lst[: 5] \n",
    "print(lst_5)\n",
    "\n",
    "# below list has numbers from 2 to 8 in step 2 \n",
    "lst1_8_2 = lst[1 : 8 : 2] \n",
    "print(lst1_8_2) \n",
    "\n",
    "# below list has numbers from 10 to 1 \n",
    "lst_rev = lst[ : : -1] \n",
    "print(lst_rev) \n",
    "\n",
    "# below list has numbers from 10 to 6 in step 2 \n",
    "lst_rev_9_5_2 = lst[9 : 4 : -2] \n",
    "print(lst_rev_9_5_2)\n"
   ]
  },
  {
   "cell_type": "raw",
   "metadata": {},
   "source": [
    "We can use filter function to filter a list based on some condition provided as a lambda expression as first argument and list as second argument, example of which is shown below :"
   ]
  },
  {
   "cell_type": "code",
   "execution_count": null,
   "metadata": {},
   "outputs": [],
   "source": [
    "# filtering odd numbers \n",
    "lst = list(filter(lambda x : x % 2 == 1, range(1, 20)) )\n",
    "print(lst) \n",
    "\n",
    "# filtering odd square which are divisble by 5 \n",
    "lst = list(filter(lambda x : x % 5 == 0, \n",
    "[x ** 2 for x in range(1, 11) if x % 2 == 1]))\n",
    "print(lst)\n",
    "\n",
    "# filtering negative numbers \n",
    "lst = list(filter((lambda x: x < 0), range(-5,5))) \n",
    "print(lst) \n",
    "\n",
    "# implementing max() function, using \n",
    "print(reduce(lambda a,b: a if (a > b) else b, [7, 12, 45, 100, 15])) \n"
   ]
  }
 ],
 "metadata": {
  "kernelspec": {
   "display_name": "Python 3",
   "language": "python",
   "name": "python3"
  },
  "language_info": {
   "codemirror_mode": {
    "name": "ipython",
    "version": 3
   },
   "file_extension": ".py",
   "mimetype": "text/x-python",
   "name": "python",
   "nbconvert_exporter": "python",
   "pygments_lexer": "ipython3",
   "version": "3.7.3"
  }
 },
 "nbformat": 4,
 "nbformat_minor": 2
}
