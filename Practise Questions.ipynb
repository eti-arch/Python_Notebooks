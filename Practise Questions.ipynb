{
 "cells": [
  {
   "cell_type": "code",
   "execution_count": null,
   "metadata": {},
   "outputs": [],
   "source": [
    "Return Nth Fibonacci Number:\n",
    "    First, the terms are numbered from 0 onwards like this:\n",
    "\n",
    "n =\t0\t1\t2\t3\t4\t5\t6\t7\t8\t9\t10\t11\t12\t13\t14\t...\n",
    "xn =\t0\t1\t1\t2\t3\t5\t8\t13\t21\t34\t55\t89\t144\t233\t377\t...\n",
    "So term number 6 is called x6 (which equals 8).\n",
    "\n",
    "Example: the 8th term is\n",
    "the 7th term plus the 6th term:\n",
    "\n",
    "\n",
    "x8 = x7 + x6"
   ]
  },
  {
   "cell_type": "code",
   "execution_count": null,
   "metadata": {},
   "outputs": [],
   "source": [
    "def fibonnaci(n) :\n",
    "    if (i==n)\n",
    "       return i\n",
    "    else\n",
    "       i=i+"
   ]
  }
 ],
 "metadata": {
  "kernelspec": {
   "display_name": "Python 3",
   "language": "python",
   "name": "python3"
  },
  "language_info": {
   "codemirror_mode": {
    "name": "ipython",
    "version": 3
   },
   "file_extension": ".py",
   "mimetype": "text/x-python",
   "name": "python",
   "nbconvert_exporter": "python",
   "pygments_lexer": "ipython3",
   "version": "3.7.3"
  }
 },
 "nbformat": 4,
 "nbformat_minor": 2
}
